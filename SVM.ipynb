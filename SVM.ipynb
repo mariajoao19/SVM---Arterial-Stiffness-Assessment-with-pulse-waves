{
 "cells": [
  {
   "cell_type": "markdown",
   "metadata": {},
   "source": [
    "# Máquinas de vetores de suporte (SVM)"
   ]
  },
  {
   "cell_type": "code",
   "execution_count": null,
   "metadata": {},
   "outputs": [],
   "source": []
  },
  {
   "cell_type": "markdown",
   "metadata": {},
   "source": [
    "# Hiperplano ótimo: classes linearmente separáveis\n",
    "\n",
    "- num problema de classes linearmente separáveis temos em geral uma infinidade de soluções ótimas\n",
    "\n",
    "- para lidar com esta questão, nas SVM define-se a <span style=\"color:blue\">margem de separação</span>: separação entre o hiperplano de decisão e a observação mais próxima\n",
    "\n",
    "<img src=\"./figs/SVM1.png\" style=\"width: 450px;\"><figcaption> <font size=\"3\"> Figura retirada de Pattern Recognition and Machine Learning, C. Bishop </figcaption>\n"
   ]
  },
  {
   "cell_type": "markdown",
   "metadata": {},
   "source": [
    "# Hiperplano ótimo: classes linearmente separáveis\n",
    "\n",
    "- o <span style=\"color:blue\">hiperplano ótimo</span> é aquele que separa as classes e maximiza a margem de separação\n",
    "\n",
    "<img src=\"./figs/SVM2.png\" style=\"width: 450px;\"><figcaption> <font size=\"3\"> Figura retirada de Pattern Recognition and Machine Learning, C. Bishop </figcaption>\n",
    "\n",
    "- as observações sobre os “hiperplanos margem” são designadas de vetores de suporte"
   ]
  },
  {
   "cell_type": "markdown",
   "metadata": {},
   "source": [
    "# Hiperplano ótimo: classes linearmente separáveis\n",
    "\n",
    "- consideremos um problema de duas classes com $t = 1$ para $C_1$ e $t = -1$ para $C_2$ e um conjunto de treino $\\{{\\bf x}_n , t_n \\}_{n=1,\\cdots,N}$\n",
    "\n",
    "- o modelo considerado é linear\n",
    "$$y(x) = {\\bf w}^T {\\bf x} + w_0$$\n",
    "\n",
    "e o classificador retorna +1 sempre que $y(x) > 0$ e -1 sempre que $y(x) < 0$, sendo a fronteira de decisão definida por $y(x) = 0$\n",
    "\n",
    "- os hiperplanos margem podem ser definidos pelas equações (<span style=\"color:blue\">Porquê?</span> )\n",
    "$${\\bf w}^T {\\bf x} + w_0 = 1 \\text{  e  } {\\bf w}^T {\\bf x} + w_0 = -1$$ \n",
    "para os respetivos vetores de suporte"
   ]
  },
  {
   "cell_type": "markdown",
   "metadata": {},
   "source": [
    "# Hiperplano ótimo: classes linearmente separáveis\n",
    "\n",
    "- a distância entre estes hiperplanos é dada por $\\frac{2}{||{\\bf w}||}$\n",
    "\n",
    "- logo, para maximizar a margem temos de minimizar $||w||$ sujeito às condições\n",
    "\\begin{equation*}\n",
    "\\left\\{\n",
    "\\begin{matrix} {\\bf w}^T {\\bf x} + w_0 \\geq 1 & x \\in C_1\\\\ \n",
    "{\\bf w}^T {\\bf x} + w_0 \\leq -1 & x \\in C_2\n",
    "\\end{matrix}\n",
    "\\right.\n",
    "\\end{equation*}\n",
    "\n",
    "- as condições anteriores obrigam que não existam x ′ n s dentro da margem e podem ser reescritas na forma\n",
    "$$ t_n ({\\bf w}^T {\\bf x}_n + w_0 ) \\geq 1 \\ \\ \\ n = 1,\\cdots, N$$"
   ]
  },
  {
   "cell_type": "markdown",
   "metadata": {},
   "source": [
    "# Hiperplano ótimo: classes linearmente separáveis\n",
    "\n",
    "- obtemos assim um problema de otimização cuja formulação primal é\n",
    "$$ \\min \\frac{1}{2}||{\\bf w}||^2$$\n",
    "sujeito a \n",
    "$$ t_n ({\\bf w}^T {\\bf x}_n + w_0 ) \\geq 1 \\ \\ \\ n = 1,\\cdots, N$$\n",
    "\n",
    "- este é um problema de otimização convexo, pelo que qualquer solução local é na verdade um ótimo global"
   ]
  },
  {
   "cell_type": "markdown",
   "metadata": {},
   "source": [
    "# Hiperplano ótimo: classes linearmente separáveis\n",
    "\n",
    "- pode ser resolvido por programação quadrática, com Lagrangeano\n",
    "$$ \\mathcal{L}(w, w_0 , \\alpha) = ||{\\bf w}||^2 - \\sum_{n=1}^{N} \\alpha_n (t_n ({\\bf w}^T {\\bf x}_n + w_0 ) - 1)$$\n",
    "onde $\\alpha = (\\alpha_1 ,\\cdots, \\alpha_N )$ é o vetor de multiplicadores de Lagrange\n",
    "\n",
    "- derivando em ordem a ${\\bf w}$ e $w_0$ obtemos\n",
    "\n",
    "$${\\bf w} = \\sum_{n=1}^{N} \\alpha_n t_n {\\bf x}_n$$\n",
    "e\n",
    "$${\\bf w} = \\sum_{n=1}^{N} \\alpha_n t_n $$\n",
    "onde apenas alguns dos $\\alpha_n$ são positivos (os restantes são nulos), correspondendo aos ${\\bf x}_n$ que são vetores de suporte"
   ]
  },
  {
   "cell_type": "markdown",
   "metadata": {},
   "source": [
    "# Hiperplano ótimo: classes linearmente separáveis\n",
    "\n",
    "- substituindo as expressões anteriores na função Lagrangeana (e com alguma perícia matemática) obtemos a formulação dual do problema\n",
    "\n",
    "$$ \\max \\sum_{n=1}^{N}\\alpha_n - \\frac{1}{2} \\sum_{n=1}^{N}\\sum_{m=1}^{N} \\alpha_n \\alpha_m t_n t_m {\\bf x}^{T}_{n} {\\bf x}_m$$\n",
    "\n",
    "sujeito a \n",
    "$$ \\sum_{n=1}^{N}\\alpha_n = 0$$\n",
    "$$\\alpha_n \\geq 0 \\ \\ \\ \\ n=1,\\cdots, N$$\n",
    "\n",
    "- esta formulação é mais fácil de resolver e utiliza apenas os dados de treino!"
   ]
  },
  {
   "cell_type": "markdown",
   "metadata": {},
   "source": [
    "# Hiperplano ótimo: classes linearmente separáveis\n",
    "\n",
    "- depois de obter os $\\alpha_n$’s ótimos, digamos $\\alpha^{*}_n$ , podemos determinar\n",
    "$${\\bf W}^{*} = \\sum_{n=1}^{N} \\alpha^{*}_n t_n {\\bf x}_n = \\sum_{i \\in \\mathcal{M}} \\alpha^{*}_i t_i {\\bf x}_i$$\n",
    "onde $\\mathcal{M}$ é o conjunto de índices para os quais $\\alpha_n \\neq 0$\n",
    "\n",
    "- se ${\\bf x}_m$ é um vetor de suporte com (por exemplo) $t_m = 1$, então\n",
    "$$ w^{*}_0 = 1 - ({\\bf w}^{*})^{T} {\\bf x}_m = 1 -\\sum_{i\\in \\mathcal{M}} \\alpha^{*}_i t_i {\\bf x}^{T}_{i} {\\bf x}_m$$\n",
    "ou, numa forma numericamente mais estável\n",
    "$$ w^{*}_0 = \\frac{1}{N_{\\mathcal{M}}} \\sum_{m\\in \\mathcal{M}} (t_m - \\sum_{i\\in \\mathcal{M}}\\alpha^{*}_i t_i {\\bf x}^{T}_{i} {\\bf x}_m)$$"
   ]
  },
  {
   "cell_type": "markdown",
   "metadata": {},
   "source": [
    "# Exemplo\n",
    "\n",
    "- 2 classes Normais com $\\mu_1 = (3, 0)$ e $\\mu_2 = (-3, 0)$ e $\\Sigma = \\left[\\begin{matrix} 1 & 0.5 \\\\  0.5 & 1 \\end{matrix}\\right]$\n",
    "<img src=\"./figs/SVM4.png\" style=\"width: 450px;\"><figcaption> <font size=\"3\"> os vetores de suporte estão indicados com cruzes </figcaption>"
   ]
  },
  {
   "cell_type": "markdown",
   "metadata": {},
   "source": [
    "# Hiperplano ótimo: classes não linearmente separáveis\n",
    "\n",
    "- neste caso a formulação tem de admitir a existência de observações mal classificadas, isto é, para além das respetivas margens de separação\n",
    "\n",
    "- é necessário relaxar as condições\n",
    "$$t_n ({\\bf w}^T {\\bf x}_n + w_0 )\\geq 1 - \\xi_n \\ \\ \\ \\ n = 1,\\cdots,N$$\n",
    "onde $\\xi_n \\geq 0$ se designam de slack variables"
   ]
  },
  {
   "cell_type": "markdown",
   "metadata": {},
   "source": [
    "# Hiperplano ótimo: classes não linearmente separáveis\n",
    "- é fácil ver que\n",
    "    - $\\xi_n = 0 \\rightarrow {\\bf x}_n$ está bem classificado e sem violar a respetiva margem\n",
    "    - $0 < \\xi_n \\leq 1 \\rightarrow {\\bf x}_n$ continua bem classificado mas agora violando a respetiva margem\n",
    "    - $\\xi_n > 1 \\rightarrow {\\bf x}_n$ está do lado errado da fronteira de decisão e portanto mal classificado\n",
    "    \n",
    "<img src=\"./figs/SVM5.png\" style=\"width: 450px;\"><figcaption> <font size=\"3\"> os vetores de suporte estão indicados com cruzes </figcaption>\n",
    "    "
   ]
  },
  {
   "cell_type": "markdown",
   "metadata": {},
   "source": [
    "# Hiperplano ótimo: classes não linearmente separáveis\n",
    "\n",
    "- a formulação primal do problema fica agora na forma\n",
    "\n",
    "$$\\min\\left[ \\frac{1}{2}||{\\bf w}||^2 + C\\sum_{n=1}^{N}\\xi_n\\right]$$\n",
    "\n",
    "sujeito a\n",
    "$$t_n ({\\bf w}^T {\\bf x}_n + w_0 )\\geq 1 - \\xi_n \\ \\ \\ \\ n = 1,\\cdots,N$$\n",
    "$$\\xi_n \\geq 0 \\ \\ \\ n=1,\\cdots,N$$\n",
    "- C é um parâmetro que controla o grau de relaxamento em relação às observações mal classificadas"
   ]
  },
  {
   "cell_type": "markdown",
   "metadata": {},
   "source": [
    "# Hiperplano ótimo: classes não linearmente separáveis\n",
    "\n",
    "- a formulação dual é muito semelhante\n",
    "\n",
    "$$\\max\\sum_{n=1}^{N}\\alpha_n - \\frac{1}{2}\\sum_{n=1}^{N}\\sum_{m=1}^{N}\\alpha_n\\alpha_m t_n t_m {\\bf x}^{T}_{n}{\\bf x}_m$$\n",
    "sujeito a\n",
    "$$\\sum_{n=1}^{N}\\alpha_n t_n = 0$$\n",
    "$$0\\leq \\alpha_n \\leq C \\ \\ \\ \\ n = 1,\\cdots,N$$"
   ]
  },
  {
   "cell_type": "markdown",
   "metadata": {},
   "source": [
    "# Hiperplano ótimo: classes não linearmente separáveis\n",
    "\n",
    "- a solução do problema anterior é igual (expressão) à obtida para classes separáveis (note-se que a única modificação foi a mudança da restrição $\\alpha_n \\geq 0$ para $0 \\leq \\alpha_n \\leq C$)\n",
    "\n",
    "- C controla o peso que os erros no conjunto de treino têm no processo de optimização:\n",
    "    - valores elevados de $C$ implicam uma maior influência das observações mal classificadas levando o método a sobreajustar-se aos dados de treino $\\rightarrow$ *overfit*\n",
    "    - valores pequenos de $C$ implicam uma menor influência das observações mal classificadas e um eventual sub ajuste aos dados"
   ]
  },
  {
   "cell_type": "markdown",
   "metadata": {},
   "source": [
    "# Exemplo\n",
    "\n",
    "- 2 classes Normais com $\\mu_1 = (1, 0)$ e $\\mu_2 = (-1, 0)$ e $\\Sigma = \\left[\\begin{matrix} 1 & 0.5 \\\\  0.5 & 1 \\end{matrix}\\right]$\n",
    "\n",
    "<table><tr>\n",
    "    <td><img src=\"./figs/SVM6.png\" style=\"width: 850px;\"><figcaption><font size=\"3\"> <span style=\"color:blue\">C=0.1</span></figcaption></td> \n",
    "    <td><img src=\"./figs/SVM7.png\" style=\"width: 850px;\"><figcaption> <font size=\"3\"><span style=\"color:blue\">C=100</span> </figcaption></td>\n",
    "    </tr></table>\n",
    "    \n",
    "- consegue encontrar as diferenças?    "
   ]
  },
  {
   "cell_type": "markdown",
   "metadata": {},
   "source": [
    "# Fronteiras de decisão não lineares\n",
    "\n",
    "- segundo o Teorema de Cover, dado um espaço de entrada ${\\bf x}$ onde as classes são não (linearmente) separáveis, é possível transformá-lo num novo espaço $\\phi({\\bf x})$ onde as classes são, com elevada probabilidade, separáveis\n",
    "\n",
    "- $\\phi$ tem de ser não linear\n",
    "- $\\phi({\\bf x})$ tem de ter dimensionalidade suficiente (superior ao espaço original)\n",
    "- obtém-se o hiperplano ótimo (SVM linear) no espaço $\\phi({\\bf x})$ que é posteriormente convertida numa fronteira não linear no espaço original"
   ]
  },
  {
   "cell_type": "markdown",
   "metadata": {},
   "source": [
    "# Fronteiras de decisão não lineares\n",
    "\n",
    "- a formulação dual fica\n",
    "\n",
    "$$\\max\\sum_{n=1}^{N}\\alpha_n - \\frac{1}{2}\\sum_{n=1}^{N}\\sum_{m=1}^{N}\\alpha_n\\alpha_m t_n t_m \\phi({\\bf x}_{n})^{T}\\phi({\\bf x}_m)$$\n",
    "sujeito a\n",
    "$$\\sum_{n=1}^{N}\\alpha_n t_n = 0$$\n",
    "$$0\\leq \\alpha_n \\leq C \\ \\ \\ \\ n = 1,\\cdots,N$$\n",
    "\n",
    "- ou seja, tudo se resume a saber calcular um produto interno no espaço $\\phi({\\bf x})$"
   ]
  },
  {
   "cell_type": "markdown",
   "metadata": {},
   "source": [
    "# Fronteiras de decisão não lineares: kernel trick\n",
    "\n",
    "- determinar $\\phi$ é extremamente complicado\n",
    "- o problema é contornado com uma função kernel\n",
    "$$K({\\bf x}_n,{\\bf x}_m) = \\phi({\\bf x}_n)^T \\phi({\\bf x}_m)$$\n",
    "\n",
    "que nos dá o valor do produto interno sem necessidade de construir $\\phi$ (*kernel trick*)\n",
    "\n",
    "- a função kernel tem de estar definida de acordo com o teorema de Mercer"
   ]
  },
  {
   "cell_type": "markdown",
   "metadata": {},
   "source": [
    "# Fronteiras de decisão não lineares\n",
    "\n",
    "- a formulação dual fica\n",
    "\n",
    "$$\\max\\sum_{n=1}^{N}\\alpha_n - \\frac{1}{2}\\sum_{n=1}^{N}\\sum_{m=1}^{N}\\alpha_n\\alpha_m t_n t_m K({\\bf x}_n,{\\bf x}_m)$$\n",
    "sujeito a\n",
    "$$\\sum_{n=1}^{N}\\alpha_n t_n = 0$$\n",
    "$$0\\leq \\alpha_n \\leq C \\ \\ \\ \\ n = 1,\\cdots,N$$"
   ]
  },
  {
   "cell_type": "markdown",
   "metadata": {},
   "source": [
    "# Fronteiras de decisão não lineares\n",
    "\n",
    "- recorde-se que a solução deste problema é da forma\n",
    "$${\\bf w} = \\sum_{i\\in \\mathcal{M}}\\alpha_i t_i \\phi({\\bf x}_i)$$\n",
    "\n",
    "onde $\\mathcal{M}$ é o conjunto de índices para os quais $0 < \\alpha_i < C$\n",
    "\n",
    "- no entanto não precisamos explicitamente de ${\\bf w}$ nem de $\\phi$ pois para classificar uma observação ${\\bf x}$ tem-se\n",
    "\n",
    "$${\\bf w}^T \\phi({\\bf x}) + w_0 = \\sum_{i\\in\\mathcal{M}} \\alpha_i t_i \\phi({\\bf x}_i)^T \\phi({\\bf x}) + w_0 = \\sum_{i\\in\\mathcal{M}} \\alpha_i t_i K({\\bf x}_i, {\\bf x}) + w_0$$\n",
    "$$w_0 = \\frac{1}{N_{\\mathcal{M}}} \\sum_{j\\in\\mathcal{M}} (t_j - \\sum_{i\\in\\mathcal{M}}\\alpha_i t_i K({\\bf x}_i, {\\bf x}))$$"
   ]
  },
  {
   "cell_type": "markdown",
   "metadata": {},
   "source": [
    "# Fronteiras de decisão não lineares: funções kernel\n",
    "\n",
    "- a tabela seguinte mostra algumas das funções kernel mais utilizadas\n",
    "\n",
    "| Modelo | $$K(x,y)$$ | Observações |\n",
    "| --- | --- | --- |\n",
    "| SVM polinomial | $$({\\bf x}^T {\\bf y} + 1)^P$$ | p é estabelecido pelo utilizador |\n",
    "| SVM-RBF | $$\\exp(-\\frac{1}{2\\sigma^2}||{\\bf x} - {\\bf y}||^2)$$ | $\\sigma$ é estabelecido pelo utilizador |\n",
    "| MLP | $$\\tanh(\\beta_{0}{\\bf x}^T {\\bf y} + \\beta_1)$$ | apenas satisfaz o teorema de Mercer para alguns valores de $\\beta_0$ e $\\beta_1$ |"
   ]
  },
  {
   "cell_type": "markdown",
   "metadata": {},
   "source": [
    "# Exemplo\n",
    "\n",
    "- 2 classes Normais com $\\mu_1 = (1, 0)$ e $\\mu_2 = (-1, 0)$ e $\\Sigma = \\left[\\begin{matrix} 1 & 0.5 \\\\  0.5 & 1 \\end{matrix}\\right]$ com SVM-RBF $(\\sigma = \\sqrt{1/2})$\n",
    "\n",
    "<table><tr>\n",
    "    <td><img src=\"./figs/SVM8.png\" style=\"width: 850px;\"><figcaption><font size=\"3\"> <span style=\"color:blue\">C=0.1</span></figcaption></td> \n",
    "    <td><img src=\"./figs/SVM9.png\" style=\"width: 850px;\"><figcaption> <font size=\"3\"><span style=\"color:blue\">C=1000</span> </figcaption></td>\n",
    "    </tr></table>\n"
   ]
  },
  {
   "cell_type": "markdown",
   "metadata": {},
   "source": [
    "# SVMs para problemas multi‐classe\n",
    "\n",
    "- não existe uma formulação de raiz para o problema de múltiplas classes\n",
    "\n",
    "- a solução passa por realizar estratégias tipo *one-against-all* ou *one-against-one* e combinar os resultados de alguma forma inteligente\n",
    "\n",
    "- sugere-se a leitura da secção 7.1.3 de PRLM"
   ]
  },
  {
   "cell_type": "markdown",
   "metadata": {},
   "source": [
    "# Exemplo\n",
    "\n",
    "- Dados: Iris\n",
    "\n",
    "<table><tr>\n",
    "    <td><img src=\"./figs/SVM10.png\" style=\"width: 850px;\"><figcaption><font size=\"3\"> <span style=\"color:blue\">C=0.1</span></figcaption></td> \n",
    "    <td><img src=\"./figs/SVM11.png\" style=\"width: 850px;\"><figcaption> <font size=\"3\"><span style=\"color:blue\">C=100</span> </figcaption></td>\n",
    "    </tr></table>\n",
    "\n",
    "- o algoritmo default utiliza a estratégia one-vs-one"
   ]
  },
  {
   "cell_type": "markdown",
   "metadata": {},
   "source": [
    "# Exemplo"
   ]
  },
  {
   "cell_type": "code",
   "execution_count": 11,
   "metadata": {},
   "outputs": [],
   "source": [
    "import numpy as np\n",
    "from sklearn.datasets import load_iris\n",
    "from sklearn.model_selection import train_test_split\n",
    "from sklearn.svm import SVC\n",
    "from sklearn.metrics import confusion_matrix\n",
    "import matplotlib.pyplot as plt"
   ]
  },
  {
   "cell_type": "code",
   "execution_count": 12,
   "metadata": {},
   "outputs": [],
   "source": [
    "data_x, data_y = load_iris(return_X_y=True)"
   ]
  },
  {
   "cell_type": "code",
   "execution_count": 13,
   "metadata": {},
   "outputs": [],
   "source": [
    "X_train, X_test, y_train, y_test = train_test_split(data_x, \n",
    "                                                    data_y, \n",
    "                                                    test_size=0.3, \n",
    "                                                    random_state=42)"
   ]
  },
  {
   "cell_type": "code",
   "execution_count": 14,
   "metadata": {},
   "outputs": [],
   "source": [
    "svm_iris = SVC(C=0.1, kernel='rbf')"
   ]
  },
  {
   "cell_type": "code",
   "execution_count": 15,
   "metadata": {},
   "outputs": [
    {
     "data": {
      "text/plain": [
       "SVC(C=0.1)"
      ]
     },
     "execution_count": 15,
     "metadata": {},
     "output_type": "execute_result"
    }
   ],
   "source": [
    "svm_iris.fit(X_train,y_train)"
   ]
  },
  {
   "cell_type": "code",
   "execution_count": 16,
   "metadata": {},
   "outputs": [],
   "source": [
    "h = .02\n",
    "x_min, x_max = X_test[:, 2].min() - 1, X_test[:, 2].max() + 1\n",
    "y_min, y_max = X_test[:, 3].min() - 1, X_test[:, 3].max() + 1\n",
    "xx, yy = np.meshgrid(np.arange(x_min, x_max, h), np.arange(y_min, y_max, h))"
   ]
  },
  {
   "cell_type": "code",
   "execution_count": 17,
   "metadata": {},
   "outputs": [],
   "source": [
    "Z = svm_iris.predict(np.c_[xx.ravel(), yy.ravel(), xx.ravel(), yy.ravel()])\n",
    "Z = Z.reshape(xx.shape)"
   ]
  },
  {
   "cell_type": "code",
   "execution_count": 18,
   "metadata": {},
   "outputs": [
    {
     "data": {
      "image/png": "[encoded data removed]",
      "text/plain": [
       "<Figure size 864x576 with 1 Axes>"
      ]
     },
     "metadata": {},
     "output_type": "display_data"
    }
   ],
   "source": [
    "plt.figure(1, figsize=(12,8))\n",
    "plt.clf()\n",
    "plt.imshow(Z, interpolation=\"nearest\",\n",
    "           extent=(xx.min(), xx.max(), yy.min(), yy.max()),\n",
    "           cmap=plt.cm.Paired, aspect=\"auto\", origin=\"lower\")\n",
    "\n",
    "plt.scatter(X_test[:, 2], X_test[:, 3], c=y_test)\n",
    "plt.xlim(x_min, x_max)\n",
    "plt.ylim(y_min, y_max)\n",
    "plt.xticks(())\n",
    "plt.yticks(())\n",
    "plt.show()"
   ]
  },
  {
   "cell_type": "code",
   "execution_count": 19,
   "metadata": {},
   "outputs": [],
   "source": [
    "pred = svm_iris.predict(X_test)"
   ]
  },
  {
   "cell_type": "code",
   "execution_count": 20,
   "metadata": {},
   "outputs": [
    {
     "data": {
      "text/plain": [
       "array([[19,  0,  0],\n",
       "       [ 0, 12,  1],\n",
       "       [ 0,  0, 13]], dtype=int64)"
      ]
     },
     "execution_count": 20,
     "metadata": {},
     "output_type": "execute_result"
    }
   ],
   "source": [
    "confusion_matrix(y_test,pred)"
   ]
  },
  {
   "cell_type": "markdown",
   "metadata": {},
   "source": [
    "# SVMs para regressão\n",
    "\n",
    "- o conceito de SVM pode também ser estendido para problemas de regressão\n",
    "\n",
    "- neste caso, a função objetivo terá a forma\n",
    "$$\\frac{1}{2}||{\\bf w}||^2 + C \\sum_{n=1}^{N}E_{\\epsilon}(y({\\bf x}_n) - t_n)$$\n",
    "com\n",
    "$$E_{\\epsilon}(y({\\bf x}_n) - t_n) = \\left\\{\\begin{matrix} 0, & \\text{se } |y({\\bf x}) - t| < \\epsilon\\\\  |y({\\bf x}) - t| - \\epsilon & \\text{caso contrário} \\end{matrix}\\right.$$"
   ]
  },
  {
   "cell_type": "markdown",
   "metadata": {},
   "source": [
    "# SVMs para regressão\n",
    "\n",
    "- a função $E_{\\epsilon}$ penaliza apenas as observações exteriores a um $\\epsilon$-tubo\n",
    "\n",
    "<img src=\"./figs/SVR1.png\" style=\"width: 450px;\">\n",
    "\n",
    "- introduzindo 2 slack variables não-negativas para cada observação poderemos escrever\n",
    "$$t_n \\leq y({\\bf x}_n) + \\epsilon + \\xi_n$$\n",
    "$$t_n \\geq y({\\bf x}_n) - \\epsilon - \\hat{\\xi}_n$$"
   ]
  },
  {
   "cell_type": "markdown",
   "metadata": {},
   "source": [
    "# SVMs para regressão\n",
    "\n",
    "- a formulação primal do problema fica\n",
    "\n",
    "$$\\min \\left[\\frac{1}{2}||{\\bf w}||^2 + C\\sum_{n=1}^{N}(\\xi_n + \\hat{\\xi}_n)\\right]$$\n",
    "sujeito a\n",
    "$$t_n \\leq y({\\bf x}_n) + \\epsilon + \\xi_n, \\ \\ \\ n=1,\\cdots,N$$\n",
    "$$t_n \\geq y({\\bf x}_n) - \\epsilon - \\hat{\\xi}_n, \\ \\ \\ n=1,\\cdots,N$$\n",
    "$$\\xi_n \\geq 0, \\ \\ \\ n=1,\\cdots,N$$\n",
    "$$\\hat{\\xi}_n \\geq 0, \\ \\ \\ n=1,\\cdots,N$$"
   ]
  },
  {
   "cell_type": "markdown",
   "metadata": {},
   "source": [
    "# SVMs para regressão\n",
    "\n",
    "- mostra-se que\n",
    "$$y({\\bf x}) = \\sum_{n=1}^{N}(\\alpha_n - \\hat{\\alpha}_n)K({\\bf x},{\\bf x}_n) + w_0$$\n",
    "\n",
    "- $\\alpha_n$ e $\\hat{\\alpha}_n$ são multiplicadores de Lagrange associados a cada x n tais que pelo menos um deles é nulo\n",
    "\n",
    "- os vetores de suporte são aqueles ${\\bf x}_i$ para os quais $\\alpha_i \\neq 0$ ou $\\hat{\\alpha}_i \\neq 0$, pelo que\n",
    "\n",
    "$$y({\\bf x}) = \\sum_{i\\in \\mathcal{M}}(\\alpha_i - \\hat{\\alpha}_i)K({\\bf x},{\\bf x}_i) + w_0$$"
   ]
  },
  {
   "cell_type": "markdown",
   "metadata": {},
   "source": [
    "# Exemplo\n",
    "\n",
    "- Problema (ver regressão linear): prever as vendas de determinado produto como função do valor gasto em publicidade na TV"
   ]
  },
  {
   "cell_type": "code",
   "execution_count": 21,
   "metadata": {},
   "outputs": [],
   "source": [
    "import pandas as pd\n",
    "from sklearn.svm import SVR"
   ]
  },
  {
   "cell_type": "code",
   "execution_count": 22,
   "metadata": {},
   "outputs": [
    {
     "ename": "FileNotFoundError",
     "evalue": "[Errno 2] File ../data/Advertising.csv does not exist: '../data/Advertising.csv'",
     "output_type": "error",
     "traceback": [
      "\u001b[1;31m---------------------------------------------------------------------------\u001b[0m",
      "\u001b[1;31mFileNotFoundError\u001b[0m                         Traceback (most recent call last)",
      "\u001b[1;32m<ipython-input-22-4a1c3f0a68b6>\u001b[0m in \u001b[0;36m<module>\u001b[1;34m\u001b[0m\n\u001b[1;32m----> 1\u001b[1;33m \u001b[0mdata_advertising\u001b[0m \u001b[1;33m=\u001b[0m \u001b[0mpd\u001b[0m\u001b[1;33m.\u001b[0m\u001b[0mread_csv\u001b[0m\u001b[1;33m(\u001b[0m\u001b[1;34m'../data/Advertising.csv'\u001b[0m\u001b[1;33m)\u001b[0m\u001b[1;33m\u001b[0m\u001b[1;33m\u001b[0m\u001b[0m\n\u001b[0m",
      "\u001b[1;32m~\\anaconda3\\lib\\site-packages\\pandas\\io\\parsers.py\u001b[0m in \u001b[0;36mparser_f\u001b[1;34m(filepath_or_buffer, sep, delimiter, header, names, index_col, usecols, squeeze, prefix, mangle_dupe_cols, dtype, engine, converters, true_values, false_values, skipinitialspace, skiprows, skipfooter, nrows, na_values, keep_default_na, na_filter, verbose, skip_blank_lines, parse_dates, infer_datetime_format, keep_date_col, date_parser, dayfirst, cache_dates, iterator, chunksize, compression, thousands, decimal, lineterminator, quotechar, quoting, doublequote, escapechar, comment, encoding, dialect, error_bad_lines, warn_bad_lines, delim_whitespace, low_memory, memory_map, float_precision)\u001b[0m\n\u001b[0;32m    674\u001b[0m         )\n\u001b[0;32m    675\u001b[0m \u001b[1;33m\u001b[0m\u001b[0m\n\u001b[1;32m--> 676\u001b[1;33m         \u001b[1;32mreturn\u001b[0m \u001b[0m_read\u001b[0m\u001b[1;33m(\u001b[0m\u001b[0mfilepath_or_buffer\u001b[0m\u001b[1;33m,\u001b[0m \u001b[0mkwds\u001b[0m\u001b[1;33m)\u001b[0m\u001b[1;33m\u001b[0m\u001b[1;33m\u001b[0m\u001b[0m\n\u001b[0m\u001b[0;32m    677\u001b[0m \u001b[1;33m\u001b[0m\u001b[0m\n\u001b[0;32m    678\u001b[0m     \u001b[0mparser_f\u001b[0m\u001b[1;33m.\u001b[0m\u001b[0m__name__\u001b[0m \u001b[1;33m=\u001b[0m \u001b[0mname\u001b[0m\u001b[1;33m\u001b[0m\u001b[1;33m\u001b[0m\u001b[0m\n",
      "\u001b[1;32m~\\anaconda3\\lib\\site-packages\\pandas\\io\\parsers.py\u001b[0m in \u001b[0;36m_read\u001b[1;34m(filepath_or_buffer, kwds)\u001b[0m\n\u001b[0;32m    446\u001b[0m \u001b[1;33m\u001b[0m\u001b[0m\n\u001b[0;32m    447\u001b[0m     \u001b[1;31m# Create the parser.\u001b[0m\u001b[1;33m\u001b[0m\u001b[1;33m\u001b[0m\u001b[1;33m\u001b[0m\u001b[0m\n\u001b[1;32m--> 448\u001b[1;33m     \u001b[0mparser\u001b[0m \u001b[1;33m=\u001b[0m \u001b[0mTextFileReader\u001b[0m\u001b[1;33m(\u001b[0m\u001b[0mfp_or_buf\u001b[0m\u001b[1;33m,\u001b[0m \u001b[1;33m**\u001b[0m\u001b[0mkwds\u001b[0m\u001b[1;33m)\u001b[0m\u001b[1;33m\u001b[0m\u001b[1;33m\u001b[0m\u001b[0m\n\u001b[0m\u001b[0;32m    449\u001b[0m \u001b[1;33m\u001b[0m\u001b[0m\n\u001b[0;32m    450\u001b[0m     \u001b[1;32mif\u001b[0m \u001b[0mchunksize\u001b[0m \u001b[1;32mor\u001b[0m \u001b[0miterator\u001b[0m\u001b[1;33m:\u001b[0m\u001b[1;33m\u001b[0m\u001b[1;33m\u001b[0m\u001b[0m\n",
      "\u001b[1;32m~\\anaconda3\\lib\\site-packages\\pandas\\io\\parsers.py\u001b[0m in \u001b[0;36m__init__\u001b[1;34m(self, f, engine, **kwds)\u001b[0m\n\u001b[0;32m    878\u001b[0m             \u001b[0mself\u001b[0m\u001b[1;33m.\u001b[0m\u001b[0moptions\u001b[0m\u001b[1;33m[\u001b[0m\u001b[1;34m\"has_index_names\"\u001b[0m\u001b[1;33m]\u001b[0m \u001b[1;33m=\u001b[0m \u001b[0mkwds\u001b[0m\u001b[1;33m[\u001b[0m\u001b[1;34m\"has_index_names\"\u001b[0m\u001b[1;33m]\u001b[0m\u001b[1;33m\u001b[0m\u001b[1;33m\u001b[0m\u001b[0m\n\u001b[0;32m    879\u001b[0m \u001b[1;33m\u001b[0m\u001b[0m\n\u001b[1;32m--> 880\u001b[1;33m         \u001b[0mself\u001b[0m\u001b[1;33m.\u001b[0m\u001b[0m_make_engine\u001b[0m\u001b[1;33m(\u001b[0m\u001b[0mself\u001b[0m\u001b[1;33m.\u001b[0m\u001b[0mengine\u001b[0m\u001b[1;33m)\u001b[0m\u001b[1;33m\u001b[0m\u001b[1;33m\u001b[0m\u001b[0m\n\u001b[0m\u001b[0;32m    881\u001b[0m \u001b[1;33m\u001b[0m\u001b[0m\n\u001b[0;32m    882\u001b[0m     \u001b[1;32mdef\u001b[0m \u001b[0mclose\u001b[0m\u001b[1;33m(\u001b[0m\u001b[0mself\u001b[0m\u001b[1;33m)\u001b[0m\u001b[1;33m:\u001b[0m\u001b[1;33m\u001b[0m\u001b[1;33m\u001b[0m\u001b[0m\n",
      "\u001b[1;32m~\\anaconda3\\lib\\site-packages\\pandas\\io\\parsers.py\u001b[0m in \u001b[0;36m_make_engine\u001b[1;34m(self, engine)\u001b[0m\n\u001b[0;32m   1112\u001b[0m     \u001b[1;32mdef\u001b[0m \u001b[0m_make_engine\u001b[0m\u001b[1;33m(\u001b[0m\u001b[0mself\u001b[0m\u001b[1;33m,\u001b[0m \u001b[0mengine\u001b[0m\u001b[1;33m=\u001b[0m\u001b[1;34m\"c\"\u001b[0m\u001b[1;33m)\u001b[0m\u001b[1;33m:\u001b[0m\u001b[1;33m\u001b[0m\u001b[1;33m\u001b[0m\u001b[0m\n\u001b[0;32m   1113\u001b[0m         \u001b[1;32mif\u001b[0m \u001b[0mengine\u001b[0m \u001b[1;33m==\u001b[0m \u001b[1;34m\"c\"\u001b[0m\u001b[1;33m:\u001b[0m\u001b[1;33m\u001b[0m\u001b[1;33m\u001b[0m\u001b[0m\n\u001b[1;32m-> 1114\u001b[1;33m             \u001b[0mself\u001b[0m\u001b[1;33m.\u001b[0m\u001b[0m_engine\u001b[0m \u001b[1;33m=\u001b[0m \u001b[0mCParserWrapper\u001b[0m\u001b[1;33m(\u001b[0m\u001b[0mself\u001b[0m\u001b[1;33m.\u001b[0m\u001b[0mf\u001b[0m\u001b[1;33m,\u001b[0m \u001b[1;33m**\u001b[0m\u001b[0mself\u001b[0m\u001b[1;33m.\u001b[0m\u001b[0moptions\u001b[0m\u001b[1;33m)\u001b[0m\u001b[1;33m\u001b[0m\u001b[1;33m\u001b[0m\u001b[0m\n\u001b[0m\u001b[0;32m   1115\u001b[0m         \u001b[1;32melse\u001b[0m\u001b[1;33m:\u001b[0m\u001b[1;33m\u001b[0m\u001b[1;33m\u001b[0m\u001b[0m\n\u001b[0;32m   1116\u001b[0m             \u001b[1;32mif\u001b[0m \u001b[0mengine\u001b[0m \u001b[1;33m==\u001b[0m \u001b[1;34m\"python\"\u001b[0m\u001b[1;33m:\u001b[0m\u001b[1;33m\u001b[0m\u001b[1;33m\u001b[0m\u001b[0m\n",
      "\u001b[1;32m~\\anaconda3\\lib\\site-packages\\pandas\\io\\parsers.py\u001b[0m in \u001b[0;36m__init__\u001b[1;34m(self, src, **kwds)\u001b[0m\n\u001b[0;32m   1889\u001b[0m         \u001b[0mkwds\u001b[0m\u001b[1;33m[\u001b[0m\u001b[1;34m\"usecols\"\u001b[0m\u001b[1;33m]\u001b[0m \u001b[1;33m=\u001b[0m \u001b[0mself\u001b[0m\u001b[1;33m.\u001b[0m\u001b[0musecols\u001b[0m\u001b[1;33m\u001b[0m\u001b[1;33m\u001b[0m\u001b[0m\n\u001b[0;32m   1890\u001b[0m \u001b[1;33m\u001b[0m\u001b[0m\n\u001b[1;32m-> 1891\u001b[1;33m         \u001b[0mself\u001b[0m\u001b[1;33m.\u001b[0m\u001b[0m_reader\u001b[0m \u001b[1;33m=\u001b[0m \u001b[0mparsers\u001b[0m\u001b[1;33m.\u001b[0m\u001b[0mTextReader\u001b[0m\u001b[1;33m(\u001b[0m\u001b[0msrc\u001b[0m\u001b[1;33m,\u001b[0m \u001b[1;33m**\u001b[0m\u001b[0mkwds\u001b[0m\u001b[1;33m)\u001b[0m\u001b[1;33m\u001b[0m\u001b[1;33m\u001b[0m\u001b[0m\n\u001b[0m\u001b[0;32m   1892\u001b[0m         \u001b[0mself\u001b[0m\u001b[1;33m.\u001b[0m\u001b[0munnamed_cols\u001b[0m \u001b[1;33m=\u001b[0m \u001b[0mself\u001b[0m\u001b[1;33m.\u001b[0m\u001b[0m_reader\u001b[0m\u001b[1;33m.\u001b[0m\u001b[0munnamed_cols\u001b[0m\u001b[1;33m\u001b[0m\u001b[1;33m\u001b[0m\u001b[0m\n\u001b[0;32m   1893\u001b[0m \u001b[1;33m\u001b[0m\u001b[0m\n",
      "\u001b[1;32mpandas\\_libs\\parsers.pyx\u001b[0m in \u001b[0;36mpandas._libs.parsers.TextReader.__cinit__\u001b[1;34m()\u001b[0m\n",
      "\u001b[1;32mpandas\\_libs\\parsers.pyx\u001b[0m in \u001b[0;36mpandas._libs.parsers.TextReader._setup_parser_source\u001b[1;34m()\u001b[0m\n",
      "\u001b[1;31mFileNotFoundError\u001b[0m: [Errno 2] File ../data/Advertising.csv does not exist: '../data/Advertising.csv'"
     ]
    }
   ],
   "source": [
    "data_advertising = pd.read_csv('../data/Advertising.csv')"
   ]
  },
  {
   "cell_type": "code",
   "execution_count": 4,
   "metadata": {},
   "outputs": [],
   "source": [
    "data_advertising.drop(columns='Unnamed: 0',inplace=True)"
   ]
  },
  {
   "cell_type": "code",
   "execution_count": 6,
   "metadata": {},
   "outputs": [
    {
     "data": {
      "text/plain": [
       "Index(['TV', 'radio', 'newspaper', 'sales'], dtype='object')"
      ]
     },
     "execution_count": 6,
     "metadata": {},
     "output_type": "execute_result"
    }
   ],
   "source": [
    "data_advertising.keys()"
   ]
  },
  {
   "cell_type": "code",
   "execution_count": 7,
   "metadata": {},
   "outputs": [],
   "source": [
    "X_train, X_test, y_train, y_test = train_test_split(data_advertising.drop(columns='sales'), \n",
    "                                                    data_advertising['sales'].values, \n",
    "                                                    test_size=0.3, \n",
    "                                                    random_state=42)"
   ]
  },
  {
   "cell_type": "code",
   "execution_count": 45,
   "metadata": {},
   "outputs": [],
   "source": [
    "adv_svr = SVR(C=0.1,kernel='rbf')\n",
    "adv_svr2 = SVR(C=100,kernel='rbf')"
   ]
  },
  {
   "cell_type": "code",
   "execution_count": 46,
   "metadata": {},
   "outputs": [
    {
     "data": {
      "text/plain": [
       "SVR(C=100)"
      ]
     },
     "execution_count": 46,
     "metadata": {},
     "output_type": "execute_result"
    }
   ],
   "source": [
    "adv_svr.fit(X_train, y_train)\n",
    "adv_svr2.fit(X_train, y_train)"
   ]
  },
  {
   "cell_type": "code",
   "execution_count": 47,
   "metadata": {},
   "outputs": [],
   "source": [
    "sv_ind = adv_svr.support_\n",
    "sv_ind2 = adv_svr2.support_"
   ]
  },
  {
   "cell_type": "code",
   "execution_count": 48,
   "metadata": {},
   "outputs": [],
   "source": [
    "X_plot = np.c_[np.linspace(X_train['TV'].min(), X_train['TV'].max(), 1000),\n",
    "               np.linspace(X_train['radio'].min(), X_train['radio'].max(), 1000),\n",
    "               np.linspace(X_train['newspaper'].min(), X_train['newspaper'].max(), 1000)\n",
    "              ]"
   ]
  },
  {
   "cell_type": "code",
   "execution_count": 49,
   "metadata": {},
   "outputs": [],
   "source": [
    "y1_plot = adv_svr.predict(X_plot)\n",
    "y2_plot = adv_svr2.predict(X_plot)"
   ]
  },
  {
   "cell_type": "code",
   "execution_count": 56,
   "metadata": {},
   "outputs": [
    {
     "data": {
      "text/plain": [
       "<matplotlib.legend.Legend at 0x7f26bc978350>"
      ]
     },
     "execution_count": 56,
     "metadata": {},
     "output_type": "execute_result"
    },
    {
     "data": {
      "image/png": "[encoded data removed]",
      "text/plain": [
       "<Figure size 1296x576 with 2 Axes>"
      ]
     },
     "metadata": {
      "needs_background": "light"
     },
     "output_type": "display_data"
    }
   ],
   "source": [
    "fig, ax = plt.subplots(1,2,figsize=(18,8))\n",
    "ax[0].scatter(X_train['TV'].values[sv_ind], y_train[sv_ind], c='r', s=50, label='SVR support vectors',\n",
    "            zorder=2, edgecolors=(0, 0, 0))\n",
    "ax[0].scatter(X_train['TV'], y_train, c='k', label='data', zorder=1)\n",
    "ax[0].plot(X_plot[:,0], y1_plot, c='r')\n",
    "ax[0].set_xlabel('data')\n",
    "ax[0].set_ylabel('target')\n",
    "ax[0].set_title('SVR C=0.1')\n",
    "ax[0].legend()\n",
    "\n",
    "ax[1].scatter(X_train['TV'].values[sv_ind2], y_train[sv_ind2], \n",
    "              c='r', s=50, label='SVR support vectors',\n",
    "            zorder=2, edgecolors=(0, 0, 0))\n",
    "ax[1].scatter(X_train['TV'], y_train, c='k', label='data', zorder=1)\n",
    "ax[1].plot(X_plot[:,0], y2_plot, c='r')\n",
    "ax[1].set_xlabel('data')\n",
    "ax[1].set_ylabel('target')\n",
    "ax[1].set_title('SVR C=100')\n",
    "ax[1].legend()"
   ]
  },
  {
   "cell_type": "markdown",
   "metadata": {},
   "source": [
    "## Afinando os modelos"
   ]
  },
  {
   "cell_type": "code",
   "execution_count": 8,
   "metadata": {},
   "outputs": [],
   "source": [
    "from sklearn.model_selection import GridSearchCV"
   ]
  },
  {
   "cell_type": "code",
   "execution_count": 7,
   "metadata": {},
   "outputs": [
    {
     "name": "stdout",
     "output_type": "stream",
     "text": [
      "Object `np.range` not found.\n"
     ]
    }
   ],
   "source": [
    "np.range?"
   ]
  },
  {
   "cell_type": "code",
   "execution_count": 9,
   "metadata": {},
   "outputs": [],
   "source": [
    "adv_svr_fine = GridSearchCV(SVR(kernel='rbf', gamma=0.1),\n",
    "                   param_grid={'C': np.arange(1.5,2.5,0.1),\n",
    "                               'gamma': np.arange(0.05,0.15,0.01),\n",
    "                               'epsilon':np.arange(0.05,0.15,0.01)})\n",
    "\n",
    "#numpy.arange([start, ]stop, [step, ], dtype=None) "
   ]
  },
  {
   "cell_type": "code",
   "execution_count": 10,
   "metadata": {
    "scrolled": true
   },
   "outputs": [
    {
     "ename": "NameError",
     "evalue": "name 'X_train' is not defined",
     "output_type": "error",
     "traceback": [
      "\u001b[1;31m---------------------------------------------------------------------------\u001b[0m",
      "\u001b[1;31mNameError\u001b[0m                                 Traceback (most recent call last)",
      "\u001b[1;32m<ipython-input-10-b17e8d1d79e7>\u001b[0m in \u001b[0;36m<module>\u001b[1;34m\u001b[0m\n\u001b[1;32m----> 1\u001b[1;33m \u001b[0madv_svr_fine\u001b[0m\u001b[1;33m.\u001b[0m\u001b[0mfit\u001b[0m\u001b[1;33m(\u001b[0m\u001b[0mX_train\u001b[0m\u001b[1;33m,\u001b[0m\u001b[0my_train\u001b[0m\u001b[1;33m)\u001b[0m\u001b[1;33m\u001b[0m\u001b[1;33m\u001b[0m\u001b[0m\n\u001b[0m",
      "\u001b[1;31mNameError\u001b[0m: name 'X_train' is not defined"
     ]
    }
   ],
   "source": [
    "adv_svr_fine.fit(X_train,y_train)"
   ]
  },
  {
   "cell_type": "code",
   "execution_count": 62,
   "metadata": {},
   "outputs": [
    {
     "data": {
      "text/html": [
       "<div>\n",
       "<style scoped>\n",
       "    .dataframe tbody tr th:only-of-type {\n",
       "        vertical-align: middle;\n",
       "    }\n",
       "\n",
       "    .dataframe tbody tr th {\n",
       "        vertical-align: top;\n",
       "    }\n",
       "\n",
       "    .dataframe thead th {\n",
       "        text-align: right;\n",
       "    }\n",
       "</style>\n",
       "<table border=\"1\" class=\"dataframe\">\n",
       "  <thead>\n",
       "    <tr style=\"text-align: right;\">\n",
       "      <th></th>\n",
       "      <th>mean_fit_time</th>\n",
       "      <th>std_fit_time</th>\n",
       "      <th>mean_score_time</th>\n",
       "      <th>std_score_time</th>\n",
       "      <th>param_C</th>\n",
       "      <th>param_epsilon</th>\n",
       "      <th>param_gamma</th>\n",
       "      <th>params</th>\n",
       "      <th>split0_test_score</th>\n",
       "      <th>split1_test_score</th>\n",
       "      <th>split2_test_score</th>\n",
       "      <th>split3_test_score</th>\n",
       "      <th>split4_test_score</th>\n",
       "      <th>mean_test_score</th>\n",
       "      <th>std_test_score</th>\n",
       "      <th>rank_test_score</th>\n",
       "    </tr>\n",
       "  </thead>\n",
       "  <tbody>\n",
       "    <tr>\n",
       "      <th>0</th>\n",
       "      <td>0.003601</td>\n",
       "      <td>0.001356</td>\n",
       "      <td>0.002225</td>\n",
       "      <td>0.000826</td>\n",
       "      <td>1.5</td>\n",
       "      <td>0.05</td>\n",
       "      <td>0.05</td>\n",
       "      <td>{'C': 1.5, 'epsilon': 0.05, 'gamma': 0.05}</td>\n",
       "      <td>0.012200</td>\n",
       "      <td>-0.121154</td>\n",
       "      <td>-0.067111</td>\n",
       "      <td>0.019230</td>\n",
       "      <td>-0.008616</td>\n",
       "      <td>-0.033090</td>\n",
       "      <td>0.053480</td>\n",
       "      <td>140</td>\n",
       "    </tr>\n",
       "    <tr>\n",
       "      <th>1</th>\n",
       "      <td>0.002080</td>\n",
       "      <td>0.000123</td>\n",
       "      <td>0.001315</td>\n",
       "      <td>0.000029</td>\n",
       "      <td>1.5</td>\n",
       "      <td>0.05</td>\n",
       "      <td>0.06</td>\n",
       "      <td>{'C': 1.5, 'epsilon': 0.05, 'gamma': 0.0600000...</td>\n",
       "      <td>0.006313</td>\n",
       "      <td>-0.125509</td>\n",
       "      <td>-0.071472</td>\n",
       "      <td>0.014114</td>\n",
       "      <td>-0.015907</td>\n",
       "      <td>-0.038492</td>\n",
       "      <td>0.052810</td>\n",
       "      <td>275</td>\n",
       "    </tr>\n",
       "    <tr>\n",
       "      <th>2</th>\n",
       "      <td>0.002057</td>\n",
       "      <td>0.000089</td>\n",
       "      <td>0.001362</td>\n",
       "      <td>0.000109</td>\n",
       "      <td>1.5</td>\n",
       "      <td>0.05</td>\n",
       "      <td>0.07</td>\n",
       "      <td>{'C': 1.5, 'epsilon': 0.05, 'gamma': 0.07}</td>\n",
       "      <td>0.002492</td>\n",
       "      <td>-0.127672</td>\n",
       "      <td>-0.074546</td>\n",
       "      <td>0.010735</td>\n",
       "      <td>-0.020256</td>\n",
       "      <td>-0.041849</td>\n",
       "      <td>0.052215</td>\n",
       "      <td>420</td>\n",
       "    </tr>\n",
       "    <tr>\n",
       "      <th>3</th>\n",
       "      <td>0.002026</td>\n",
       "      <td>0.000065</td>\n",
       "      <td>0.001311</td>\n",
       "      <td>0.000036</td>\n",
       "      <td>1.5</td>\n",
       "      <td>0.05</td>\n",
       "      <td>0.08</td>\n",
       "      <td>{'C': 1.5, 'epsilon': 0.05, 'gamma': 0.0800000...</td>\n",
       "      <td>-0.000099</td>\n",
       "      <td>-0.128713</td>\n",
       "      <td>-0.076684</td>\n",
       "      <td>0.008365</td>\n",
       "      <td>-0.023057</td>\n",
       "      <td>-0.044038</td>\n",
       "      <td>0.051677</td>\n",
       "      <td>594</td>\n",
       "    </tr>\n",
       "    <tr>\n",
       "      <th>4</th>\n",
       "      <td>0.002140</td>\n",
       "      <td>0.000185</td>\n",
       "      <td>0.001348</td>\n",
       "      <td>0.000036</td>\n",
       "      <td>1.5</td>\n",
       "      <td>0.05</td>\n",
       "      <td>0.09</td>\n",
       "      <td>{'C': 1.5, 'epsilon': 0.05, 'gamma': 0.0900000...</td>\n",
       "      <td>-0.001911</td>\n",
       "      <td>-0.129187</td>\n",
       "      <td>-0.078253</td>\n",
       "      <td>0.006629</td>\n",
       "      <td>-0.024974</td>\n",
       "      <td>-0.045539</td>\n",
       "      <td>0.051215</td>\n",
       "      <td>783</td>\n",
       "    </tr>\n",
       "    <tr>\n",
       "      <th>...</th>\n",
       "      <td>...</td>\n",
       "      <td>...</td>\n",
       "      <td>...</td>\n",
       "      <td>...</td>\n",
       "      <td>...</td>\n",
       "      <td>...</td>\n",
       "      <td>...</td>\n",
       "      <td>...</td>\n",
       "      <td>...</td>\n",
       "      <td>...</td>\n",
       "      <td>...</td>\n",
       "      <td>...</td>\n",
       "      <td>...</td>\n",
       "      <td>...</td>\n",
       "      <td>...</td>\n",
       "      <td>...</td>\n",
       "    </tr>\n",
       "    <tr>\n",
       "      <th>995</th>\n",
       "      <td>0.002026</td>\n",
       "      <td>0.000119</td>\n",
       "      <td>0.001254</td>\n",
       "      <td>0.000011</td>\n",
       "      <td>2.4</td>\n",
       "      <td>0.14</td>\n",
       "      <td>0.1</td>\n",
       "      <td>{'C': 2.400000000000001, 'epsilon': 0.14, 'gam...</td>\n",
       "      <td>-0.005899</td>\n",
       "      <td>-0.119623</td>\n",
       "      <td>-0.070671</td>\n",
       "      <td>0.008440</td>\n",
       "      <td>-0.019925</td>\n",
       "      <td>-0.041536</td>\n",
       "      <td>0.047289</td>\n",
       "      <td>399</td>\n",
       "    </tr>\n",
       "    <tr>\n",
       "      <th>996</th>\n",
       "      <td>0.002036</td>\n",
       "      <td>0.000164</td>\n",
       "      <td>0.001252</td>\n",
       "      <td>0.000004</td>\n",
       "      <td>2.4</td>\n",
       "      <td>0.14</td>\n",
       "      <td>0.11</td>\n",
       "      <td>{'C': 2.400000000000001, 'epsilon': 0.14, 'gam...</td>\n",
       "      <td>-0.007187</td>\n",
       "      <td>-0.119957</td>\n",
       "      <td>-0.071999</td>\n",
       "      <td>0.006868</td>\n",
       "      <td>-0.021120</td>\n",
       "      <td>-0.042679</td>\n",
       "      <td>0.046928</td>\n",
       "      <td>470</td>\n",
       "    </tr>\n",
       "    <tr>\n",
       "      <th>997</th>\n",
       "      <td>0.002001</td>\n",
       "      <td>0.000149</td>\n",
       "      <td>0.001251</td>\n",
       "      <td>0.000005</td>\n",
       "      <td>2.4</td>\n",
       "      <td>0.14</td>\n",
       "      <td>0.12</td>\n",
       "      <td>{'C': 2.400000000000001, 'epsilon': 0.14, 'gam...</td>\n",
       "      <td>-0.008112</td>\n",
       "      <td>-0.120155</td>\n",
       "      <td>-0.073069</td>\n",
       "      <td>0.005628</td>\n",
       "      <td>-0.022057</td>\n",
       "      <td>-0.043553</td>\n",
       "      <td>0.046639</td>\n",
       "      <td>539</td>\n",
       "    </tr>\n",
       "    <tr>\n",
       "      <th>998</th>\n",
       "      <td>0.002025</td>\n",
       "      <td>0.000189</td>\n",
       "      <td>0.001258</td>\n",
       "      <td>0.000034</td>\n",
       "      <td>2.4</td>\n",
       "      <td>0.14</td>\n",
       "      <td>0.13</td>\n",
       "      <td>{'C': 2.400000000000001, 'epsilon': 0.14, 'gam...</td>\n",
       "      <td>-0.008779</td>\n",
       "      <td>-0.120283</td>\n",
       "      <td>-0.073964</td>\n",
       "      <td>0.004636</td>\n",
       "      <td>-0.022828</td>\n",
       "      <td>-0.044244</td>\n",
       "      <td>0.046413</td>\n",
       "      <td>611</td>\n",
       "    </tr>\n",
       "    <tr>\n",
       "      <th>999</th>\n",
       "      <td>0.001916</td>\n",
       "      <td>0.000019</td>\n",
       "      <td>0.001340</td>\n",
       "      <td>0.000160</td>\n",
       "      <td>2.4</td>\n",
       "      <td>0.14</td>\n",
       "      <td>0.14</td>\n",
       "      <td>{'C': 2.400000000000001, 'epsilon': 0.14, 'gam...</td>\n",
       "      <td>-0.009314</td>\n",
       "      <td>-0.120379</td>\n",
       "      <td>-0.074733</td>\n",
       "      <td>0.003835</td>\n",
       "      <td>-0.023489</td>\n",
       "      <td>-0.044816</td>\n",
       "      <td>0.046232</td>\n",
       "      <td>681</td>\n",
       "    </tr>\n",
       "  </tbody>\n",
       "</table>\n",
       "<p>1000 rows × 16 columns</p>\n",
       "</div>"
      ],
      "text/plain": [
       "     mean_fit_time  std_fit_time  mean_score_time  std_score_time param_C  \\\n",
       "0         0.003601      0.001356         0.002225        0.000826     1.5   \n",
       "1         0.002080      0.000123         0.001315        0.000029     1.5   \n",
       "2         0.002057      0.000089         0.001362        0.000109     1.5   \n",
       "3         0.002026      0.000065         0.001311        0.000036     1.5   \n",
       "4         0.002140      0.000185         0.001348        0.000036     1.5   \n",
       "..             ...           ...              ...             ...     ...   \n",
       "995       0.002026      0.000119         0.001254        0.000011     2.4   \n",
       "996       0.002036      0.000164         0.001252        0.000004     2.4   \n",
       "997       0.002001      0.000149         0.001251        0.000005     2.4   \n",
       "998       0.002025      0.000189         0.001258        0.000034     2.4   \n",
       "999       0.001916      0.000019         0.001340        0.000160     2.4   \n",
       "\n",
       "    param_epsilon param_gamma  \\\n",
       "0            0.05        0.05   \n",
       "1            0.05        0.06   \n",
       "2            0.05        0.07   \n",
       "3            0.05        0.08   \n",
       "4            0.05        0.09   \n",
       "..            ...         ...   \n",
       "995          0.14         0.1   \n",
       "996          0.14        0.11   \n",
       "997          0.14        0.12   \n",
       "998          0.14        0.13   \n",
       "999          0.14        0.14   \n",
       "\n",
       "                                                params  split0_test_score  \\\n",
       "0           {'C': 1.5, 'epsilon': 0.05, 'gamma': 0.05}           0.012200   \n",
       "1    {'C': 1.5, 'epsilon': 0.05, 'gamma': 0.0600000...           0.006313   \n",
       "2           {'C': 1.5, 'epsilon': 0.05, 'gamma': 0.07}           0.002492   \n",
       "3    {'C': 1.5, 'epsilon': 0.05, 'gamma': 0.0800000...          -0.000099   \n",
       "4    {'C': 1.5, 'epsilon': 0.05, 'gamma': 0.0900000...          -0.001911   \n",
       "..                                                 ...                ...   \n",
       "995  {'C': 2.400000000000001, 'epsilon': 0.14, 'gam...          -0.005899   \n",
       "996  {'C': 2.400000000000001, 'epsilon': 0.14, 'gam...          -0.007187   \n",
       "997  {'C': 2.400000000000001, 'epsilon': 0.14, 'gam...          -0.008112   \n",
       "998  {'C': 2.400000000000001, 'epsilon': 0.14, 'gam...          -0.008779   \n",
       "999  {'C': 2.400000000000001, 'epsilon': 0.14, 'gam...          -0.009314   \n",
       "\n",
       "     split1_test_score  split2_test_score  split3_test_score  \\\n",
       "0            -0.121154          -0.067111           0.019230   \n",
       "1            -0.125509          -0.071472           0.014114   \n",
       "2            -0.127672          -0.074546           0.010735   \n",
       "3            -0.128713          -0.076684           0.008365   \n",
       "4            -0.129187          -0.078253           0.006629   \n",
       "..                 ...                ...                ...   \n",
       "995          -0.119623          -0.070671           0.008440   \n",
       "996          -0.119957          -0.071999           0.006868   \n",
       "997          -0.120155          -0.073069           0.005628   \n",
       "998          -0.120283          -0.073964           0.004636   \n",
       "999          -0.120379          -0.074733           0.003835   \n",
       "\n",
       "     split4_test_score  mean_test_score  std_test_score  rank_test_score  \n",
       "0            -0.008616        -0.033090        0.053480              140  \n",
       "1            -0.015907        -0.038492        0.052810              275  \n",
       "2            -0.020256        -0.041849        0.052215              420  \n",
       "3            -0.023057        -0.044038        0.051677              594  \n",
       "4            -0.024974        -0.045539        0.051215              783  \n",
       "..                 ...              ...             ...              ...  \n",
       "995          -0.019925        -0.041536        0.047289              399  \n",
       "996          -0.021120        -0.042679        0.046928              470  \n",
       "997          -0.022057        -0.043553        0.046639              539  \n",
       "998          -0.022828        -0.044244        0.046413              611  \n",
       "999          -0.023489        -0.044816        0.046232              681  \n",
       "\n",
       "[1000 rows x 16 columns]"
      ]
     },
     "execution_count": 62,
     "metadata": {},
     "output_type": "execute_result"
    }
   ],
   "source": [
    "pd.DataFrame(adv_svr_fine.cv_results_)"
   ]
  },
  {
   "cell_type": "code",
   "execution_count": 1,
   "metadata": {},
   "outputs": [
    {
     "ename": "NameError",
     "evalue": "name 'adv_svr_fine' is not defined",
     "output_type": "error",
     "traceback": [
      "\u001b[1;31m---------------------------------------------------------------------------\u001b[0m",
      "\u001b[1;31mNameError\u001b[0m                                 Traceback (most recent call last)",
      "\u001b[1;32m<ipython-input-1-b81f59a85c4b>\u001b[0m in \u001b[0;36m<module>\u001b[1;34m\u001b[0m\n\u001b[1;32m----> 1\u001b[1;33m \u001b[0mbest_par\u001b[0m \u001b[1;33m=\u001b[0m \u001b[0madv_svr_fine\u001b[0m\u001b[1;33m.\u001b[0m\u001b[0mbest_estimator_\u001b[0m\u001b[1;33m.\u001b[0m\u001b[0mget_params\u001b[0m\u001b[1;33m(\u001b[0m\u001b[1;33m)\u001b[0m\u001b[1;33m\u001b[0m\u001b[1;33m\u001b[0m\u001b[0m\n\u001b[0m",
      "\u001b[1;31mNameError\u001b[0m: name 'adv_svr_fine' is not defined"
     ]
    }
   ],
   "source": [
    "best_par = adv_svr_fine.best_estimator_.get_params()"
   ]
  },
  {
   "cell_type": "code",
   "execution_count": 66,
   "metadata": {},
   "outputs": [],
   "source": [
    "y_plot = adv_svr_fine.best_estimator_.predict(X_plot)"
   ]
  },
  {
   "cell_type": "code",
   "execution_count": 70,
   "metadata": {},
   "outputs": [
    {
     "data": {
      "text/plain": [
       "<matplotlib.legend.Legend at 0x7f26bc3e3490>"
      ]
     },
     "execution_count": 70,
     "metadata": {},
     "output_type": "execute_result"
    },
    {
     "data": {
      "image/png": "[encoded data removed]",
      "text/plain": [
       "<Figure size 432x288 with 1 Axes>"
      ]
     },
     "metadata": {
      "needs_background": "light"
     },
     "output_type": "display_data"
    }
   ],
   "source": [
    "# Look at the results\n",
    "sv_ind = adv_svr_fine.best_estimator_.support_\n",
    "plt.scatter(X_train['TV'].values[sv_ind], y_train[sv_ind], c='r', s=50, label='SVR support vectors',\n",
    "            zorder=2, edgecolors=(0, 0, 0))\n",
    "plt.scatter(X_train['TV'], y_train, c='k', label='data', zorder=1)\n",
    "plt.plot(X_plot[:,0], y_plot, c='r')\n",
    "plt.xlabel('data')\n",
    "plt.ylabel('target')\n",
    "#plt.set_title(f'SVR C = {best_par['C']:.2f}, $\\epsilon =$ {best_par['epsilon']}, gamma = {best_par['gamma']}')\n",
    "plt.legend()"
   ]
  },
  {
   "cell_type": "code",
   "execution_count": 68,
   "metadata": {},
   "outputs": [
    {
     "data": {
      "text/plain": [
       "2.400000000000001"
      ]
     },
     "execution_count": 68,
     "metadata": {},
     "output_type": "execute_result"
    }
   ],
   "source": [
    "best_par['C']"
   ]
  },
  {
   "cell_type": "code",
   "execution_count": null,
   "metadata": {},
   "outputs": [],
   "source": []
  }
 ],
 "metadata": {
  "kernelspec": {
   "display_name": "Python 3",
   "language": "python",
   "name": "python3"
  },
  "language_info": {
   "codemirror_mode": {
    "name": "ipython",
    "version": 3
   },
   "file_extension": ".py",
   "mimetype": "text/x-python",
   "name": "python",
   "nbconvert_exporter": "python",
   "pygments_lexer": "ipython3",
   "version": "3.8.3"
  },
  "varInspector": {
   "cols": {
    "lenName": 16,
    "lenType": 16,
    "lenVar": 40
   },
   "kernels_config": {
    "python": {
     "delete_cmd_postfix": "",
     "delete_cmd_prefix": "del ",
     "library": "var_list.py",
     "varRefreshCmd": "print(var_dic_list())"
    },
    "r": {
     "delete_cmd_postfix": ") ",
     "delete_cmd_prefix": "rm(",
     "library": "var_list.r",
     "varRefreshCmd": "cat(var_dic_list()) "
    }
   },
   "types_to_exclude": [
    "module",
    "function",
    "builtin_function_or_method",
    "instance",
    "_Feature"
   ],
   "window_display": false
  }
 },
 "nbformat": 4,
 "nbformat_minor": 4
}
