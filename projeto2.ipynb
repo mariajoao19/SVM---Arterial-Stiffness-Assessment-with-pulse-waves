{
 "cells": [
  {
   "cell_type": "code",
   "execution_count": 2,
   "metadata": {},
   "outputs": [],
   "source": [
    "import numpy as np\n",
    "import pandas as pd\n",
    "import matplotlib.pyplot as plt\n",
    "from scipy.io import loadmat\n",
    "import re\n",
    "from sklearn.svm import SVC\n",
    "from sklearn.svm import SVR\n",
    "from mpl_toolkits.mplot3d import Axes3D\n",
    "from sklearn.model_selection import KFold\n",
    "from sklearn.preprocessing import MinMaxScaler\n",
    "from sklearn.model_selection import GridSearchCV\n",
    "from sklearn.metrics import plot_confusion_matrix"
   ]
  },
  {
   "cell_type": "code",
   "execution_count": 3,
   "metadata": {},
   "outputs": [
    {
     "name": "stdout",
     "output_type": "stream",
     "text": [
      "1368\n",
      "345\n",
      "(1368, 1)\n",
      "(1368, 15)\n",
      "(345, 1)\n",
      "(345, 15)\n"
     ]
    }
   ],
   "source": [
    "mat=loadmat(\"data_pulso2.mat\")\n",
    "X=mat[\"Xtrain\"]\n",
    "y=mat[\"ytrain\"]\n",
    "\n",
    "\n",
    "Xtest=mat[\"Xtest\"]\n",
    "ytest=mat[\"ytest\"]\n",
    "\n",
    "m = len(y)\n",
    "mtest = len(ytest)\n",
    "print(m)\n",
    "print(mtest)\n",
    "\n",
    "print(y.shape)\n",
    "print(X.shape)\n",
    "print(ytest.shape)\n",
    "print(Xtest.shape)"
   ]
  },
  {
   "cell_type": "code",
   "execution_count": 4,
   "metadata": {},
   "outputs": [],
   "source": [
    "scaler = MinMaxScaler(feature_range=(0, 1))\n",
    "X = scaler.fit_transform(X)\n",
    "Xtest = scaler.fit_transform(Xtest)\n"
   ]
  },
  {
   "cell_type": "code",
   "execution_count": null,
   "metadata": {},
   "outputs": [],
   "source": []
  },
  {
   "cell_type": "markdown",
   "metadata": {},
   "source": [
    "# RBF"
   ]
  },
  {
   "cell_type": "code",
   "execution_count": 5,
   "metadata": {},
   "outputs": [],
   "source": [
    "def dataset3Params_rbf(X, y, Xval, yval,vals):\n",
    "    \"\"\"\n",
    "    Returns your choice of C and sigma. You should complete this function to return the optimal C and \n",
    "    sigma based on a cross-validation set.\n",
    "    \"\"\"\n",
    "    acc = 0\n",
    "    best_C=0\n",
    "    best_gamma=0\n",
    "    for i in vals:\n",
    "        C= i\n",
    "        for j in vals:\n",
    "            gamma = 1/j\n",
    "            classifier = SVC(kernel=\"rbf\",C=C,gamma=gamma)\n",
    "            classifier.fit(X,y)\n",
    "            prediction = classifier.predict(Xval)\n",
    "            score = classifier.score(Xval,yval)\n",
    "            if score>acc:\n",
    "                acc =score\n",
    "                best_C =C\n",
    "                best_gamma=gamma\n",
    "    return best_C, best_gamma"
   ]
  },
  {
   "cell_type": "code",
   "execution_count": 6,
   "metadata": {},
   "outputs": [
    {
     "name": "stdout",
     "output_type": "stream",
     "text": [
      "Best C: 1.09\n",
      "Best gamma: 10.0\n",
      "Best sigma: 0.1\n",
      "0.9919590643274854\n",
      "0.736231884057971\n"
     ]
    }
   ],
   "source": [
    "vals = [0.1  , 0.298, 0.496, 0.694, 0.892, 1.09 , 1.288, 1.486, 1.684,\n",
    "       1.882, 2.08 , 2.278, 2.476, 2.674, 2.872, 3.07 , 3.268, 3.466,\n",
    "       3.664, 3.862, 4.06 , 4.258, 4.456, 4.654, 4.852, 5.05 , 5.248,\n",
    "       5.446, 5.644, 5.842, 6.04 , 6.238, 6.436, 6.634, 6.832, 7.03 ,\n",
    "       7.228, 7.426, 7.624, 7.822, 8.02 , 8.218, 8.416, 8.614, 8.812,\n",
    "       9.01 , 9.208, 9.406, 9.604, 9.802]\n",
    "best_C, best_gamma = dataset3Params_rbf(X, y.ravel(), Xtest, ytest.ravel(),vals)\n",
    "\n",
    "print('Best C:', best_C)\n",
    "print('Best gamma:', best_gamma)\n",
    "print('Best sigma:', 1/best_gamma)\n",
    "\n",
    "classifier4 = SVC(C=best_C,gamma=best_gamma)\n",
    "classifier4.fit(X,y.ravel())\n",
    "prediction4 = classifier4.predict(Xtest)\n",
    "\n",
    "print(classifier4.score(X,y))\n",
    "print(classifier4.score(Xtest,ytest))"
   ]
  },
  {
   "cell_type": "code",
   "execution_count": 7,
   "metadata": {},
   "outputs": [
    {
     "name": "stdout",
     "output_type": "stream",
     "text": [
      "[[230   9]\n",
      " [ 82  24]]\n",
      "[[937   1]\n",
      " [ 10 420]]\n"
     ]
    },
    {
     "data": {
      "image/png": "[encoded data removed]",
      "text/plain": [
       "<Figure size 432x288 with 2 Axes>"
      ]
     },
     "metadata": {
      "needs_background": "light"
     },
     "output_type": "display_data"
    },
    {
     "data": {
      "image/png": "[encoded data removed]",
      "text/plain": [
       "<Figure size 432x288 with 2 Axes>"
      ]
     },
     "metadata": {
      "needs_background": "light"
     },
     "output_type": "display_data"
    }
   ],
   "source": [
    "disp1=plot_confusion_matrix(classifier4,Xtest,ytest)\n",
    "print(disp1.confusion_matrix)\n",
    "\n",
    "disp2=plot_confusion_matrix(classifier4,X,y)\n",
    "print(disp2.confusion_matrix)"
   ]
  },
  {
   "cell_type": "code",
   "execution_count": 7,
   "metadata": {},
   "outputs": [
    {
     "data": {
      "text/plain": [
       "Text(0.5, 0, 'Permutation Importance')"
      ]
     },
     "execution_count": 7,
     "metadata": {},
     "output_type": "execute_result"
    },
    {
     "data": {
      "image/png": "[encoded data removed]",
      "text/plain": [
       "<Figure size 432x288 with 1 Axes>"
      ]
     },
     "metadata": {
      "needs_background": "light"
     },
     "output_type": "display_data"
    }
   ],
   "source": [
    "from sklearn.inspection import permutation_importance\n",
    "perm_importance = permutation_importance(classifier4, Xtest, ytest)\n",
    "feature_names = ['ratio_down_up', 'ratio_amp', 'ratio_downstoke', 'SEVR','ED', 'ind_max_deriv2','ind_0_deriv2', 'ratio_upstoke','SEntropy','ShanonE','max_FFT','max_FFT2','max_FFT3','fwhm','idade']\n",
    "features = np.array(feature_names)\n",
    "\n",
    "sorted_idx = perm_importance.importances_mean.argsort()\n",
    "plt.barh(features[sorted_idx], perm_importance.importances_mean[sorted_idx])\n",
    "plt.xlabel(\"Permutation Importance\")"
   ]
  },
  {
   "cell_type": "code",
   "execution_count": 8,
   "metadata": {},
   "outputs": [
    {
     "name": "stdout",
     "output_type": "stream",
     "text": [
      "0.34532374100719426\n"
     ]
    }
   ],
   "source": [
    "from sklearn.metrics import f1_score\n",
    "#F1 score\n",
    "print(f1_score(ytest,prediction4)) "
   ]
  },
  {
   "cell_type": "code",
   "execution_count": 9,
   "metadata": {},
   "outputs": [
    {
     "name": "stdout",
     "output_type": "stream",
     "text": [
      "Average precision-recall score: 0.56\n"
     ]
    }
   ],
   "source": [
    "from sklearn.metrics import average_precision_score\n",
    "\n",
    "#Recall\n",
    "y_score1 = classifier4.decision_function(Xtest)\n",
    "average_precision1 = average_precision_score(ytest, y_score1)\n",
    "print('Average precision-recall score: {0:0.2f}'.format(\n",
    "      average_precision1))"
   ]
  },
  {
   "cell_type": "markdown",
   "metadata": {},
   "source": [
    "# LINEAR"
   ]
  },
  {
   "cell_type": "code",
   "execution_count": 10,
   "metadata": {},
   "outputs": [],
   "source": [
    "def dataset3Params_linear(X, y, Xval, yval,vals):\n",
    "    \"\"\"\n",
    "    Returns your choice of C and sigma. You should complete this function to return the optimal C and \n",
    "    sigma based on a cross-validation set.\n",
    "    \"\"\"\n",
    "    acc = 0\n",
    "    best_C=0\n",
    "    for i in vals:\n",
    "        C= i\n",
    "        classifier = SVC(kernel=\"linear\",C=C)\n",
    "        classifier.fit(X,y)\n",
    "        prediction = classifier.predict(Xval)\n",
    "        score = classifier.score(Xval,yval)\n",
    "        if score>acc:\n",
    "            acc =score\n",
    "            best_C =C                \n",
    "    return best_C"
   ]
  },
  {
   "cell_type": "code",
   "execution_count": 11,
   "metadata": {},
   "outputs": [
    {
     "name": "stdout",
     "output_type": "stream",
     "text": [
      "Best C: 9.802\n",
      "0.9758771929824561\n",
      "0.6550724637681159\n"
     ]
    }
   ],
   "source": [
    "vals = [0.1  , 0.298, 0.496, 0.694, 0.892, 1.09 , 1.288, 1.486, 1.684,\n",
    "       1.882, 2.08 , 2.278, 2.476, 2.674, 2.872, 3.07 , 3.268, 3.466,\n",
    "       3.664, 3.862, 4.06 , 4.258, 4.456, 4.654, 4.852, 5.05 , 5.248,\n",
    "       5.446, 5.644, 5.842, 6.04 , 6.238, 6.436, 6.634, 6.832, 7.03 ,\n",
    "       7.228, 7.426, 7.624, 7.822, 8.02 , 8.218, 8.416, 8.614, 8.812,\n",
    "       9.01 , 9.208, 9.406, 9.604, 9.802]\n",
    "best_C= dataset3Params_linear(X, y.ravel(), Xtest, ytest.ravel(),vals)\n",
    "\n",
    "print('Best C:', best_C)\n",
    "\n",
    "classifier5= SVC(C=best_C)\n",
    "classifier5.fit(X,y.ravel())\n",
    "prediction5 = classifier5.predict(Xtest)\n",
    "\n",
    "print(classifier5.score(X,y))\n",
    "print(classifier5.score(Xtest,ytest))"
   ]
  },
  {
   "cell_type": "code",
   "execution_count": 12,
   "metadata": {},
   "outputs": [
    {
     "name": "stdout",
     "output_type": "stream",
     "text": [
      "[[230   9]\n",
      " [ 82  24]]\n",
      "[[937   1]\n",
      " [ 10 420]]\n"
     ]
    },
    {
     "data": {
      "image/png": "[encoded data removed]",
      "text/plain": [
       "<Figure size 432x288 with 2 Axes>"
      ]
     },
     "metadata": {
      "needs_background": "light"
     },
     "output_type": "display_data"
    },
    {
     "data": {
      "image/png": "[encoded data removed]",
      "text/plain": [
       "<Figure size 432x288 with 2 Axes>"
      ]
     },
     "metadata": {
      "needs_background": "light"
     },
     "output_type": "display_data"
    }
   ],
   "source": [
    "disp3=plot_confusion_matrix(classifier5,Xtest,ytest)\n",
    "print(disp1.confusion_matrix)\n",
    "\n",
    "disp4=plot_confusion_matrix(classifier5,X,y)\n",
    "print(disp2.confusion_matrix)"
   ]
  },
  {
   "cell_type": "code",
   "execution_count": 13,
   "metadata": {},
   "outputs": [
    {
     "data": {
      "text/plain": [
       "Text(0.5, 0, 'Permutation Importance')"
      ]
     },
     "execution_count": 13,
     "metadata": {},
     "output_type": "execute_result"
    },
    {
     "data": {
      "image/png": "[encoded data removed]",
      "text/plain": [
       "<Figure size 432x288 with 1 Axes>"
      ]
     },
     "metadata": {
      "needs_background": "light"
     },
     "output_type": "display_data"
    }
   ],
   "source": [
    "from sklearn.inspection import permutation_importance\n",
    "perm_importance = permutation_importance(classifier5, Xtest, ytest)\n",
    "feature_names = ['ratio_down_up', 'ratio_amp', 'ratio_downstoke', 'SEVR','ED', 'ind_max_deriv2','ind_0_deriv2', 'ratio_upstoke','SEntropy','ShanonE','max_FFT','max_FFT2','max_FFT3','fwhm','idade']\n",
    "features = np.array(feature_names)\n",
    "\n",
    "sorted_idx = perm_importance.importances_mean.argsort()\n",
    "plt.barh(features[sorted_idx], perm_importance.importances_mean[sorted_idx])\n",
    "plt.xlabel(\"Permutation Importance\")"
   ]
  },
  {
   "cell_type": "code",
   "execution_count": 14,
   "metadata": {},
   "outputs": [
    {
     "name": "stdout",
     "output_type": "stream",
     "text": [
      "0.4978902953586497\n"
     ]
    }
   ],
   "source": [
    "#F1 score\n",
    "print(f1_score(ytest,prediction5)) "
   ]
  },
  {
   "cell_type": "code",
   "execution_count": 15,
   "metadata": {},
   "outputs": [
    {
     "name": "stdout",
     "output_type": "stream",
     "text": [
      "Average precision-recall score: 0.46\n"
     ]
    }
   ],
   "source": [
    "#Recall\n",
    "y_score2 = classifier5.decision_function(Xtest)\n",
    "average_precision1 = average_precision_score(ytest, y_score2)\n",
    "print('Average precision-recall score: {0:0.2f}'.format(\n",
    "      average_precision1))"
   ]
  },
  {
   "cell_type": "markdown",
   "metadata": {},
   "source": [
    "# RBF- outro algoritmo"
   ]
  },
  {
   "cell_type": "code",
   "execution_count": 16,
   "metadata": {},
   "outputs": [],
   "source": [
    "param_grid2=[{'kernel': ['rbf'], 'gamma':  np.arange(0.1,10,0.198),\n",
    "                     'C': np.arange(0.1,10,0.198)}]\n",
    "#50 pontos\n",
    "adv_svr_fine2 = GridSearchCV(SVC(),param_grid2)"
   ]
  },
  {
   "cell_type": "code",
   "execution_count": 17,
   "metadata": {},
   "outputs": [
    {
     "data": {
      "text/plain": [
       "GridSearchCV(estimator=SVC(),\n",
       "             param_grid=[{'C': array([0.1  , 0.298, 0.496, 0.694, 0.892, 1.09 , 1.288, 1.486, 1.684,\n",
       "       1.882, 2.08 , 2.278, 2.476, 2.674, 2.872, 3.07 , 3.268, 3.466,\n",
       "       3.664, 3.862, 4.06 , 4.258, 4.456, 4.654, 4.852, 5.05 , 5.248,\n",
       "       5.446, 5.644, 5.842, 6.04 , 6.238, 6.436, 6.634, 6.832, 7.03 ,\n",
       "       7.228, 7.426, 7.624, 7.822, 8.02 , 8.218, 8.416, 8.614, 8.812,\n",
       "       9.01 , 9.208, 9.406, 9.604, 9.802]),\n",
       "                          'gamma': array([0.1  , 0.298, 0.496, 0.694, 0.892, 1.09 , 1.288, 1.486, 1.684,\n",
       "       1.882, 2.08 , 2.278, 2.476, 2.674, 2.872, 3.07 , 3.268, 3.466,\n",
       "       3.664, 3.862, 4.06 , 4.258, 4.456, 4.654, 4.852, 5.05 , 5.248,\n",
       "       5.446, 5.644, 5.842, 6.04 , 6.238, 6.436, 6.634, 6.832, 7.03 ,\n",
       "       7.228, 7.426, 7.624, 7.822, 8.02 , 8.218, 8.416, 8.614, 8.812,\n",
       "       9.01 , 9.208, 9.406, 9.604, 9.802]),\n",
       "                          'kernel': ['rbf']}])"
      ]
     },
     "execution_count": 17,
     "metadata": {},
     "output_type": "execute_result"
    }
   ],
   "source": [
    "adv_svr_fine2.fit(X,y.ravel())"
   ]
  },
  {
   "cell_type": "code",
   "execution_count": null,
   "metadata": {},
   "outputs": [],
   "source": [
    "#pd.DataFrame(adv_svr_fine2.cv_results_)"
   ]
  },
  {
   "cell_type": "code",
   "execution_count": 18,
   "metadata": {},
   "outputs": [
    {
     "name": "stdout",
     "output_type": "stream",
     "text": [
      "0.1\n",
      "0.4960000000000001\n"
     ]
    }
   ],
   "source": [
    "best_par2 = adv_svr_fine2.best_estimator_.get_params()\n",
    "print(best_par2['C'])\n",
    "print(best_par2['gamma'])"
   ]
  },
  {
   "cell_type": "code",
   "execution_count": 32,
   "metadata": {},
   "outputs": [
    {
     "name": "stdout",
     "output_type": "stream",
     "text": [
      "0.8837719298245614\n",
      "0.7101449275362319\n",
      "0.16666666666666669\n"
     ]
    }
   ],
   "source": [
    "classifier2 = SVC(kernel=\"rbf\",C=0.1, gamma=5.4)\n",
    "classifier2.fit(X,y.ravel())\n",
    "prediction2 = classifier2.predict(Xtest)\n",
    "\n",
    "# Accuracy\n",
    "print(classifier2.score(X,y)) \n",
    "print(classifier2.score(Xtest,ytest))\n",
    "\n",
    "#F1 score\n",
    "print(f1_score(ytest,prediction2)) "
   ]
  },
  {
   "cell_type": "markdown",
   "metadata": {},
   "source": [
    "# LINEAR - outro algoritmo"
   ]
  },
  {
   "cell_type": "code",
   "execution_count": 33,
   "metadata": {},
   "outputs": [],
   "source": [
    "param_grid1=[{'kernel': ['linear'], 'C': np.arange(0.1,10,0.198)}]\n",
    "#50 pontos\n",
    "adv_svr_fine1 = GridSearchCV(SVC(),param_grid1)"
   ]
  },
  {
   "cell_type": "code",
   "execution_count": 34,
   "metadata": {},
   "outputs": [
    {
     "data": {
      "text/plain": [
       "GridSearchCV(estimator=SVC(),\n",
       "             param_grid=[{'C': array([0.1  , 0.298, 0.496, 0.694, 0.892, 1.09 , 1.288, 1.486, 1.684,\n",
       "       1.882, 2.08 , 2.278, 2.476, 2.674, 2.872, 3.07 , 3.268, 3.466,\n",
       "       3.664, 3.862, 4.06 , 4.258, 4.456, 4.654, 4.852, 5.05 , 5.248,\n",
       "       5.446, 5.644, 5.842, 6.04 , 6.238, 6.436, 6.634, 6.832, 7.03 ,\n",
       "       7.228, 7.426, 7.624, 7.822, 8.02 , 8.218, 8.416, 8.614, 8.812,\n",
       "       9.01 , 9.208, 9.406, 9.604, 9.802]),\n",
       "                          'kernel': ['linear']}])"
      ]
     },
     "execution_count": 34,
     "metadata": {},
     "output_type": "execute_result"
    }
   ],
   "source": [
    "adv_svr_fine1.fit(X,y.ravel())"
   ]
  },
  {
   "cell_type": "code",
   "execution_count": null,
   "metadata": {},
   "outputs": [],
   "source": [
    "#pd.DataFrame(adv_svr_fine1.cv_results_)"
   ]
  },
  {
   "cell_type": "code",
   "execution_count": 35,
   "metadata": {},
   "outputs": [
    {
     "name": "stdout",
     "output_type": "stream",
     "text": [
      "0.1\n"
     ]
    }
   ],
   "source": [
    "best_par1 = adv_svr_fine1.best_estimator_.get_params()\n",
    "print(best_par1['C'])"
   ]
  },
  {
   "cell_type": "code",
   "execution_count": 36,
   "metadata": {},
   "outputs": [
    {
     "name": "stdout",
     "output_type": "stream",
     "text": [
      "0.8647660818713451\n",
      "0.6869565217391305\n",
      "0.47058823529411764\n"
     ]
    }
   ],
   "source": [
    "from sklearn.metrics import f1_score\n",
    "classifier1 = SVC(kernel=\"linear\",C=0.1)\n",
    "classifier1.fit(X,y.ravel())\n",
    "prediction1 = classifier1.predict(Xtest)\n",
    "\n",
    "# Accuracy\n",
    "print(classifier1.score(X,y)) \n",
    "print(classifier1.score(Xtest,ytest))\n",
    "\n",
    "#F1 score\n",
    "print(f1_score(ytest,prediction1)) "
   ]
  },
  {
   "cell_type": "code",
   "execution_count": null,
   "metadata": {},
   "outputs": [],
   "source": []
  }
 ],
 "metadata": {
  "kernelspec": {
   "display_name": "Python 3",
   "language": "python",
   "name": "python3"
  },
  "language_info": {
   "codemirror_mode": {
    "name": "ipython",
    "version": 3
   },
   "file_extension": ".py",
   "mimetype": "text/x-python",
   "name": "python",
   "nbconvert_exporter": "python",
   "pygments_lexer": "ipython3",
   "version": "3.8.3"
  }
 },
 "nbformat": 4,
 "nbformat_minor": 4
}
