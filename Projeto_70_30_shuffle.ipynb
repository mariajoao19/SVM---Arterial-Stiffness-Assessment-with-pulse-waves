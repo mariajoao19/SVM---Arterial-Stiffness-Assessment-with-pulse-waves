{
 "cells": [
  {
   "cell_type": "code",
   "execution_count": 1,
   "metadata": {},
   "outputs": [],
   "source": [
    "import numpy as np\n",
    "import pandas as pd\n",
    "import matplotlib.pyplot as plt\n",
    "from scipy.io import loadmat\n",
    "import re\n",
    "from sklearn.svm import SVC\n",
    "from sklearn.svm import SVR\n",
    "from mpl_toolkits.mplot3d import Axes3D\n",
    "from sklearn.model_selection import KFold\n",
    "from sklearn.preprocessing import MinMaxScaler\n",
    "from sklearn.model_selection import GridSearchCV\n",
    "from sklearn.metrics import plot_confusion_matrix\n",
    "from sklearn.utils import shuffle"
   ]
  },
  {
   "cell_type": "code",
   "execution_count": 2,
   "metadata": {},
   "outputs": [
    {
     "name": "stdout",
     "output_type": "stream",
     "text": [
      "1199\n",
      "513\n",
      "(1199, 16)\n",
      "(1199, 1)\n",
      "(1199, 15)\n",
      "(513, 16)\n",
      "(513, 1)\n",
      "(513, 15)\n"
     ]
    }
   ],
   "source": [
    "mat=loadmat(\"data_pulso3.mat\")\n",
    "dadostrain=mat[\"Train_7030\"]\n",
    "X=mat[\"Xtrain_7030\"]\n",
    "y=mat[\"ytrain_7030\"]\n",
    "\n",
    "dadostest=mat[\"Test_7030\"]\n",
    "Xtest=mat[\"Xtest_7030\"]\n",
    "ytest=mat[\"ytest_7030\"]\n",
    "\n",
    "m = len(y)\n",
    "mtest = len(ytest)\n",
    "print(m)\n",
    "print(mtest)\n",
    "\n",
    "print(dadostrain.shape)\n",
    "print(y.shape)\n",
    "print(X.shape)\n",
    "\n",
    "print(dadostest.shape)\n",
    "print(ytest.shape)\n",
    "print(Xtest.shape)\n",
    "\n",
    "#print(dadostrain)\n",
    "#print(dadostest)"
   ]
  },
  {
   "cell_type": "code",
   "execution_count": 3,
   "metadata": {},
   "outputs": [],
   "source": [
    "scaler = MinMaxScaler(feature_range=(0, 1))\n",
    "X = scaler.fit_transform(X)\n",
    "Xtest = scaler.fit_transform(Xtest)\n",
    "dadostrain=scaler.fit_transform(dadostrain)\n",
    "dadostest=scaler.fit_transform(dadostest)"
   ]
  },
  {
   "cell_type": "code",
   "execution_count": 4,
   "metadata": {},
   "outputs": [],
   "source": [
    "#from sklearn import utils\n",
    "#from sklearn.utils import shuffle\n",
    "\n",
    "#dadostrain1=shuffle(dadostrain)\n",
    "\n",
    "#dadostest1=shuffle(dadostest)\n",
    "\n",
    "#print(dadostrain1)\n",
    "#print(dadostest1)\n"
   ]
  },
  {
   "cell_type": "code",
   "execution_count": 4,
   "metadata": {},
   "outputs": [],
   "source": [
    "dadostrain=pd.DataFrame(data=dadostrain)\n",
    "dadostest=pd.DataFrame(data=dadostest)\n",
    "\n",
    "dadostrain1 = dadostrain.sample(frac=1).reset_index(drop=True)\n",
    "dadostest1=dadostest.sample(frac=1).reset_index(drop=True)"
   ]
  },
  {
   "cell_type": "code",
   "execution_count": 5,
   "metadata": {},
   "outputs": [],
   "source": [
    "dadostrain1=dadostrain1.values\n",
    "Xtrain1=dadostrain1[:,0:14]\n",
    "ytrain1=dadostrain1[:,-1]\n",
    "\n",
    "dadostest1=dadostest1.values\n",
    "Xtest1=dadostest1[:,0:14]\n",
    "ytest1=dadostest1[:,-1]"
   ]
  },
  {
   "cell_type": "markdown",
   "metadata": {},
   "source": [
    "# RBF"
   ]
  },
  {
   "cell_type": "code",
   "execution_count": 6,
   "metadata": {},
   "outputs": [],
   "source": [
    "def dataset3Params_rbf(X, y, Xval, yval,vals):\n",
    "    \"\"\"\n",
    "    Returns your choice of C and sigma. You should complete this function to return the optimal C and \n",
    "    sigma based on a cross-validation set.\n",
    "    \"\"\"\n",
    "    acc = 0\n",
    "    best_C=0\n",
    "    best_gamma=0\n",
    "    for i in vals:\n",
    "        C= i\n",
    "        for j in vals:\n",
    "            gamma = 1/j\n",
    "            classifier = SVC(kernel=\"rbf\",C=C,gamma=gamma)\n",
    "            classifier.fit(X,y)\n",
    "            prediction = classifier.predict(Xval)\n",
    "            score = classifier.score(Xval,yval)\n",
    "            if score>acc:\n",
    "                acc =score\n",
    "                best_C =C\n",
    "                best_gamma=gamma\n",
    "    return best_C, best_gamma,prediction"
   ]
  },
  {
   "cell_type": "code",
   "execution_count": 7,
   "metadata": {},
   "outputs": [
    {
     "name": "stdout",
     "output_type": "stream",
     "text": [
      "Best C: 7.03\n",
      "Best gamma: 0.19054878048780488\n",
      "Best sigma: 5.248\n",
      "0.7022518765638032\n",
      "0.7582846003898636\n"
     ]
    }
   ],
   "source": [
    "vals = [0.1  , 0.298, 0.496, 0.694, 0.892, 1.09 , 1.288, 1.486, 1.684,\n",
    "       1.882, 2.08 , 2.278, 2.476, 2.674, 2.872, 3.07 , 3.268, 3.466,\n",
    "       3.664, 3.862, 4.06 , 4.258, 4.456, 4.654, 4.852, 5.05 , 5.248,\n",
    "       5.446, 5.644, 5.842, 6.04 , 6.238, 6.436, 6.634, 6.832, 7.03 ,\n",
    "       7.228, 7.426, 7.624, 7.822, 8.02 , 8.218, 8.416, 8.614, 8.812,\n",
    "       9.01 , 9.208, 9.406, 9.604, 9.802]\n",
    "best_C, best_gamma, prediction = dataset3Params_rbf(Xtrain1, ytrain1.ravel(), Xtest1, ytest1.ravel(),vals)\n",
    "\n",
    "print('Best C:', best_C)\n",
    "print('Best gamma:', best_gamma)\n",
    "print('Best sigma:', 1/best_gamma)\n",
    "\n",
    "classifier4 = SVC(C=best_C,gamma=best_gamma)\n",
    "classifier4.fit(Xtrain1,ytrain1.ravel())\n",
    "prediction4 = classifier4.predict(Xtest1)\n",
    "\n",
    "print(classifier4.score(Xtrain1,ytrain1))\n",
    "print(classifier4.score(Xtest1,ytest1))"
   ]
  },
  {
   "cell_type": "code",
   "execution_count": 9,
   "metadata": {},
   "outputs": [
    {
     "name": "stdout",
     "output_type": "stream",
     "text": [
      "[[325  31]\n",
      " [ 93  64]]\n",
      "[[817   3]\n",
      " [354  25]]\n"
     ]
    },
    {
     "data": {
      "image/png": "[encoded data removed]",
      "text/plain": [
       "<Figure size 432x288 with 2 Axes>"
      ]
     },
     "metadata": {
      "needs_background": "light"
     },
     "output_type": "display_data"
    },
    {
     "data": {
      "image/png": "[encoded data removed]",
      "text/plain": [
       "<Figure size 432x288 with 2 Axes>"
      ]
     },
     "metadata": {
      "needs_background": "light"
     },
     "output_type": "display_data"
    }
   ],
   "source": [
    "disp2=plot_confusion_matrix(classifier4,Xtest1,ytest1)\n",
    "print(disp2.confusion_matrix)\n",
    "\n",
    "disp1=plot_confusion_matrix(classifier4,Xtrain1,ytrain1)\n",
    "print(disp1.confusion_matrix)\n"
   ]
  },
  {
   "cell_type": "code",
   "execution_count": 9,
   "metadata": {},
   "outputs": [
    {
     "data": {
      "text/plain": [
       "Text(0.5, 0, 'Permutation Importance')"
      ]
     },
     "execution_count": 9,
     "metadata": {},
     "output_type": "execute_result"
    },
    {
     "data": {
      "image/png": "[encoded data removed]",
      "text/plain": [
       "<Figure size 432x288 with 1 Axes>"
      ]
     },
     "metadata": {
      "needs_background": "light"
     },
     "output_type": "display_data"
    }
   ],
   "source": [
    "from sklearn.inspection import permutation_importance\n",
    "perm_importance = permutation_importance(classifier4, Xtest1, ytest1)\n",
    "feature_names = ['ratio_down_up', 'ratio_amp', 'ratio_downstoke', 'SEVR','ED', 'ind_max_deriv2','ind_0_deriv2', 'ratio_upstoke','SEntropy','ShanonE','max_FFT','max_FFT2','max_FFT3','fwhm','idade']\n",
    "features = np.array(feature_names)\n",
    "\n",
    "sorted_idx = perm_importance.importances_mean.argsort()\n",
    "plt.barh(features[sorted_idx], perm_importance.importances_mean[sorted_idx])\n",
    "plt.xlabel(\"Permutation Importance\")"
   ]
  },
  {
   "cell_type": "code",
   "execution_count": 8,
   "metadata": {},
   "outputs": [
    {
     "name": "stdout",
     "output_type": "stream",
     "text": [
      "0.5079365079365079\n",
      "0.3076923076923077\n"
     ]
    }
   ],
   "source": [
    "from sklearn.metrics import f1_score\n",
    "#F1 score\n",
    "print(f1_score(ytest1,prediction4))\n",
    "print(f1_score(ytest1,prediction))"
   ]
  },
  {
   "cell_type": "code",
   "execution_count": 11,
   "metadata": {},
   "outputs": [
    {
     "name": "stdout",
     "output_type": "stream",
     "text": [
      "Average precision-recall score: 0.53\n"
     ]
    }
   ],
   "source": [
    "from sklearn.metrics import average_precision_score\n",
    "\n",
    "#Recall\n",
    "y_score1 = classifier4.decision_function(Xtest1)\n",
    "average_precision1 = average_precision_score(ytest1, y_score1)\n",
    "print('Average precision-recall score: {0:0.2f}'.format(\n",
    "      average_precision1))"
   ]
  },
  {
   "cell_type": "markdown",
   "metadata": {},
   "source": [
    "# ------------------------------------------"
   ]
  },
  {
   "cell_type": "code",
   "execution_count": 12,
   "metadata": {},
   "outputs": [],
   "source": [
    "param_grid2=[{'kernel': ['rbf'], 'gamma':  np.arange(0.1,10,0.198),\n",
    "                     'C': np.arange(0.1,10,0.198)}]\n",
    "#50 pontos\n",
    "adv_svr_fine2 = GridSearchCV(SVC(),param_grid2)"
   ]
  },
  {
   "cell_type": "code",
   "execution_count": 13,
   "metadata": {},
   "outputs": [
    {
     "data": {
      "text/plain": [
       "GridSearchCV(estimator=SVC(),\n",
       "             param_grid=[{'C': array([0.1  , 0.298, 0.496, 0.694, 0.892, 1.09 , 1.288, 1.486, 1.684,\n",
       "       1.882, 2.08 , 2.278, 2.476, 2.674, 2.872, 3.07 , 3.268, 3.466,\n",
       "       3.664, 3.862, 4.06 , 4.258, 4.456, 4.654, 4.852, 5.05 , 5.248,\n",
       "       5.446, 5.644, 5.842, 6.04 , 6.238, 6.436, 6.634, 6.832, 7.03 ,\n",
       "       7.228, 7.426, 7.624, 7.822, 8.02 , 8.218, 8.416, 8.614, 8.812,\n",
       "       9.01 , 9.208, 9.406, 9.604, 9.802]),\n",
       "                          'gamma': array([0.1  , 0.298, 0.496, 0.694, 0.892, 1.09 , 1.288, 1.486, 1.684,\n",
       "       1.882, 2.08 , 2.278, 2.476, 2.674, 2.872, 3.07 , 3.268, 3.466,\n",
       "       3.664, 3.862, 4.06 , 4.258, 4.456, 4.654, 4.852, 5.05 , 5.248,\n",
       "       5.446, 5.644, 5.842, 6.04 , 6.238, 6.436, 6.634, 6.832, 7.03 ,\n",
       "       7.228, 7.426, 7.624, 7.822, 8.02 , 8.218, 8.416, 8.614, 8.812,\n",
       "       9.01 , 9.208, 9.406, 9.604, 9.802]),\n",
       "                          'kernel': ['rbf']}])"
      ]
     },
     "execution_count": 13,
     "metadata": {},
     "output_type": "execute_result"
    }
   ],
   "source": [
    "adv_svr_fine2.fit(Xtrain1,ytrain1.ravel())"
   ]
  },
  {
   "cell_type": "code",
   "execution_count": 14,
   "metadata": {},
   "outputs": [
    {
     "name": "stdout",
     "output_type": "stream",
     "text": [
      "2.2780000000000005\n",
      "7.426000000000001\n"
     ]
    }
   ],
   "source": [
    "best_par2 = adv_svr_fine2.best_estimator_.get_params()\n",
    "print(best_par2['C'])\n",
    "print(best_par2['gamma'])\n",
    "\n",
    "classifier2 = SVC(kernel=\"rbf\",C=best_par2['C'], gamma=best_par2['gamma'])\n",
    "classifier2.fit(Xtrain1,ytrain1.ravel())\n",
    "prediction2 = classifier2.predict(Xtest1)"
   ]
  },
  {
   "cell_type": "code",
   "execution_count": 15,
   "metadata": {},
   "outputs": [
    {
     "name": "stdout",
     "output_type": "stream",
     "text": [
      "[[329  27]\n",
      " [145  12]]\n",
      "[[797  23]\n",
      " [ 81 298]]\n"
     ]
    },
    {
     "data": {
      "image/png": "[encoded data removed]",
      "text/plain": [
       "<Figure size 432x288 with 2 Axes>"
      ]
     },
     "metadata": {
      "needs_background": "light"
     },
     "output_type": "display_data"
    },
    {
     "data": {
      "image/png": "[encoded data removed]",
      "text/plain": [
       "<Figure size 432x288 with 2 Axes>"
      ]
     },
     "metadata": {
      "needs_background": "light"
     },
     "output_type": "display_data"
    }
   ],
   "source": [
    "disp2=plot_confusion_matrix(classifier2,Xtest1,ytest1)\n",
    "print(disp2.confusion_matrix)\n",
    "\n",
    "disp1=plot_confusion_matrix(classifier2,Xtrain1,ytrain1)\n",
    "print(disp1.confusion_matrix)"
   ]
  },
  {
   "cell_type": "code",
   "execution_count": 16,
   "metadata": {},
   "outputs": [
    {
     "name": "stdout",
     "output_type": "stream",
     "text": [
      "0.9132610508757297\n",
      "0.6647173489278753\n"
     ]
    }
   ],
   "source": [
    "print(classifier2.score(Xtrain1,ytrain1))\n",
    "print(classifier2.score(Xtest1,ytest1))"
   ]
  },
  {
   "cell_type": "code",
   "execution_count": 17,
   "metadata": {},
   "outputs": [
    {
     "data": {
      "text/plain": [
       "Text(0.5, 0, 'Permutation Importance')"
      ]
     },
     "execution_count": 17,
     "metadata": {},
     "output_type": "execute_result"
    },
    {
     "data": {
      "image/png": "[encoded data removed]",
      "text/plain": [
       "<Figure size 432x288 with 1 Axes>"
      ]
     },
     "metadata": {
      "needs_background": "light"
     },
     "output_type": "display_data"
    }
   ],
   "source": [
    "from sklearn.inspection import permutation_importance\n",
    "perm_importance = permutation_importance(classifier2, Xtest1, ytest1)\n",
    "feature_names = ['ratio_down_up', 'ratio_amp', 'ratio_downstoke', 'SEVR','ED', 'ind_max_deriv2','ind_0_deriv2', 'ratio_upstoke','SEntropy','ShanonE','max_FFT','max_FFT2','max_FFT3','fwhm','idade']\n",
    "features = np.array(feature_names)\n",
    "\n",
    "sorted_idx = perm_importance.importances_mean.argsort()\n",
    "plt.barh(features[sorted_idx], perm_importance.importances_mean[sorted_idx])\n",
    "plt.xlabel(\"Permutation Importance\")"
   ]
  },
  {
   "cell_type": "code",
   "execution_count": 18,
   "metadata": {},
   "outputs": [
    {
     "name": "stdout",
     "output_type": "stream",
     "text": [
      "0.12244897959183673\n"
     ]
    }
   ],
   "source": [
    "#F1 score\n",
    "print(f1_score(ytest1,prediction2)) "
   ]
  },
  {
   "cell_type": "code",
   "execution_count": 19,
   "metadata": {},
   "outputs": [
    {
     "name": "stdout",
     "output_type": "stream",
     "text": [
      "Average precision-recall score: 0.53\n"
     ]
    }
   ],
   "source": [
    "#Recall\n",
    "y_score1 = classifier4.decision_function(Xtest1)\n",
    "average_precision1 = average_precision_score(ytest1, y_score1)\n",
    "print('Average precision-recall score: {0:0.2f}'.format(\n",
    "      average_precision1))"
   ]
  },
  {
   "cell_type": "code",
   "execution_count": null,
   "metadata": {},
   "outputs": [],
   "source": []
  }
 ],
 "metadata": {
  "kernelspec": {
   "display_name": "Python 3",
   "language": "python",
   "name": "python3"
  },
  "language_info": {
   "codemirror_mode": {
    "name": "ipython",
    "version": 3
   },
   "file_extension": ".py",
   "mimetype": "text/x-python",
   "name": "python",
   "nbconvert_exporter": "python",
   "pygments_lexer": "ipython3",
   "version": "3.8.3"
  }
 },
 "nbformat": 4,
 "nbformat_minor": 4
}
